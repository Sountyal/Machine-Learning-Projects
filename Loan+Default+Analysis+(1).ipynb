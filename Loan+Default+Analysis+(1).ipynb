{
 "cells": [
  {
   "cell_type": "markdown",
   "metadata": {},
   "source": [
    "# <b> Problem Statement </b>\n",
    "\n",
    "\n",
    "You work as a Business Analytics Consultant at the Bank of Corporate.The bank was witnessing slower than usual growth in its book of business for the most recent quarter in 2018. The bank provides financial services/products such as savings accounts, current accounts, debit cards, etc. to its customer. The data suggested that it was the home loan business of the bank that was hit by a major loss. Now, loans are the core business of banks. The main profit comes directly from the loan’s interest. The head of the Home Loan business asked the heads of the Sales, Operations, Risk and Analytics teams to investigate and identify the root causes for the slowing growth and solve the problem. A business like selling Home Loans can grow or shrink based on several factors like demand or supply side. Some of the reasons are:\n",
    "\n",
    "- <b> Demand Side: </b> Are interest rates high?\n",
    "- <b> Demand Side: </b> Are there any macro economic reasons, such as recession or low salary growth or inflation?\n",
    "- <b> Supply Side: </b> Are new and attractive housing projects not available in the markets being served?\n",
    "- <b> Supply Side: </b> Have real estate prices shot up making homes unaffordable, relatively speaking?\n",
    "- <b> Competitor Side: </b> Are we losing customers to our competition? Is our competition also facing lower growth?\n",
    "\n",
    "\n",
    "\n",
    "The team found out that the credit risk was in abnormal standards and the default loan rates were high. So what do you mean by default loans and credit risk?\n",
    "\n",
    "<b> Deafult loans : </b> <br>\n",
    "Default is the failure to repay a loan according to the terms agreed to in the promissory note. For most federal student loans, you will default if you have not made a payment in more than 270 days.\n",
    "\n",
    "<b> Credit risk : </b> <br>\n",
    "It is understood simply as the risk a bank takes while lending out money to borrowers. They might default and fail to repay the dues in time and these results in losses to the bank. \n",
    "\n",
    "## <b> So, what do banks do then? </b> <br>\n",
    "They need to manage their credit risks. The goal of credit risk management in banks is to maintain credit risk exposure within proper and acceptable parameters. It is the practice of mitigating losses by understanding the adequacy of a bank’s capital and loan loss reserves at any given time. For this, banks not only need to manage the entire portfolio but also individual credits.\n",
    "\n",
    "## <b> Measures taken </b> <br>\n",
    "So in 2019, the bank came up with a project to build a \"Credit risk estimate model\" for its home loan branch.The loan should be granted after an intensive process of verification and validation. The dataset (provided below) contains the information about all the customers who were contacted during this year and were provided loans based on various parameters. The \"Credit risk estimate model\" need to be cost-efficient so that the bank not only decreases their credit risk but also increase the total profit.\n",
    "\n",
    "\n",
    "## <b> Business objective </b> <br>\n",
    "\n",
    "Your aim is to build the \"Credit risk estimate model\" to classify new loans availed as \"Low Risk\", \"High Risk\" and \"Medium Risk\". This will help the bank to sanction loans to \"Low Risk\" customers, following up with the latest information/data for the \"Medium Risk\" customers and reject the loan approval for \"High Risk\" customers."
   ]
  },
  {
   "cell_type": "markdown",
   "metadata": {},
   "source": [
    "## <b> Read the dataset"
   ]
  },
  {
   "cell_type": "code",
   "execution_count": 3,
   "metadata": {},
   "outputs": [
    {
     "name": "stdout",
     "output_type": "stream",
     "text": [
      "<class 'pandas.core.frame.DataFrame'>\n",
      "RangeIndex: 38642 entries, 0 to 38641\n",
      "Data columns (total 8 columns):\n",
      " #   Column       Non-Null Count  Dtype  \n",
      "---  ------       --------------  -----  \n",
      " 0   id           38642 non-null  int64  \n",
      " 1   loan_amnt    38642 non-null  int64  \n",
      " 2   funded_amnt  38642 non-null  int64  \n",
      " 3   int_rate     38642 non-null  float64\n",
      " 4   installment  38642 non-null  float64\n",
      " 5   emp_length   38642 non-null  int64  \n",
      " 6   annual_inc   38642 non-null  float64\n",
      " 7   loan_status  38642 non-null  object \n",
      "dtypes: float64(3), int64(4), object(1)\n",
      "memory usage: 2.4+ MB\n"
     ]
    }
   ],
   "source": [
    "#Import the libraries\n",
    "import pandas as pd, numpy as np\n",
    "\n",
    "#Load the loan dataset\n",
    "loan_data = pd.read_csv(\"loan2.csv\") \n",
    "\n",
    "#Details of the dataset\n",
    "loan_data.info()\n"
   ]
  },
  {
   "cell_type": "markdown",
   "metadata": {},
   "source": [
    "The dataset has the following columns: </b>\n",
    "\n",
    "<b> id : </b>Transaction ID use to identify each transaction uniquely <br>\n",
    "<b> loan_amnt : </b> Loan amount that was requested by the customer <br>\n",
    "<b> funded_amnt : </b>Amount that was sanctioned by the bank <br>\n",
    "<b> int_rate : </b> Interest rate offered on the loan amount <br>\n",
    "<b> installment : </b>Amount of money paid during each installment <br>\n",
    "<b> emp_length :  </b> Work experience (employment length of the customer)  <br>\n",
    "<b> annual_inc : </b>What is the annual income of the customer<br>\n",
    "<b> loan_status : </b> Classified as whether it is \"High Risk\", \"Low Risk\" and \"Medium Risk\" <br>"
   ]
  },
  {
   "cell_type": "code",
   "execution_count": 4,
   "metadata": {},
   "outputs": [
    {
     "data": {
      "text/html": [
       "<div>\n",
       "<style scoped>\n",
       "    .dataframe tbody tr th:only-of-type {\n",
       "        vertical-align: middle;\n",
       "    }\n",
       "\n",
       "    .dataframe tbody tr th {\n",
       "        vertical-align: top;\n",
       "    }\n",
       "\n",
       "    .dataframe thead th {\n",
       "        text-align: right;\n",
       "    }\n",
       "</style>\n",
       "<table border=\"1\" class=\"dataframe\">\n",
       "  <thead>\n",
       "    <tr style=\"text-align: right;\">\n",
       "      <th></th>\n",
       "      <th>id</th>\n",
       "      <th>loan_amnt</th>\n",
       "      <th>funded_amnt</th>\n",
       "      <th>int_rate</th>\n",
       "      <th>installment</th>\n",
       "      <th>emp_length</th>\n",
       "      <th>annual_inc</th>\n",
       "      <th>loan_status</th>\n",
       "    </tr>\n",
       "  </thead>\n",
       "  <tbody>\n",
       "    <tr>\n",
       "      <th>0</th>\n",
       "      <td>1077501</td>\n",
       "      <td>5000</td>\n",
       "      <td>5000</td>\n",
       "      <td>10.65</td>\n",
       "      <td>162.87</td>\n",
       "      <td>10</td>\n",
       "      <td>24000.0</td>\n",
       "      <td>Low Risk</td>\n",
       "    </tr>\n",
       "    <tr>\n",
       "      <th>1</th>\n",
       "      <td>1077430</td>\n",
       "      <td>2500</td>\n",
       "      <td>2500</td>\n",
       "      <td>15.27</td>\n",
       "      <td>59.83</td>\n",
       "      <td>1</td>\n",
       "      <td>30000.0</td>\n",
       "      <td>High Risk</td>\n",
       "    </tr>\n",
       "    <tr>\n",
       "      <th>2</th>\n",
       "      <td>1077175</td>\n",
       "      <td>2400</td>\n",
       "      <td>2400</td>\n",
       "      <td>15.96</td>\n",
       "      <td>84.33</td>\n",
       "      <td>10</td>\n",
       "      <td>12252.0</td>\n",
       "      <td>Low Risk</td>\n",
       "    </tr>\n",
       "    <tr>\n",
       "      <th>3</th>\n",
       "      <td>1076863</td>\n",
       "      <td>10000</td>\n",
       "      <td>10000</td>\n",
       "      <td>13.49</td>\n",
       "      <td>339.31</td>\n",
       "      <td>10</td>\n",
       "      <td>49200.0</td>\n",
       "      <td>Low Risk</td>\n",
       "    </tr>\n",
       "    <tr>\n",
       "      <th>4</th>\n",
       "      <td>1075358</td>\n",
       "      <td>3000</td>\n",
       "      <td>3000</td>\n",
       "      <td>12.69</td>\n",
       "      <td>67.79</td>\n",
       "      <td>1</td>\n",
       "      <td>80000.0</td>\n",
       "      <td>Medium Risk</td>\n",
       "    </tr>\n",
       "  </tbody>\n",
       "</table>\n",
       "</div>"
      ],
      "text/plain": [
       "        id  loan_amnt  funded_amnt  int_rate  installment  emp_length  \\\n",
       "0  1077501       5000         5000     10.65       162.87          10   \n",
       "1  1077430       2500         2500     15.27        59.83           1   \n",
       "2  1077175       2400         2400     15.96        84.33          10   \n",
       "3  1076863      10000        10000     13.49       339.31          10   \n",
       "4  1075358       3000         3000     12.69        67.79           1   \n",
       "\n",
       "   annual_inc  loan_status  \n",
       "0     24000.0     Low Risk  \n",
       "1     30000.0    High Risk  \n",
       "2     12252.0     Low Risk  \n",
       "3     49200.0     Low Risk  \n",
       "4     80000.0  Medium Risk  "
      ]
     },
     "execution_count": 4,
     "metadata": {},
     "output_type": "execute_result"
    }
   ],
   "source": [
    "#Check the details of the dataset\n",
    "loan_data.head()\n"
   ]
  },
  {
   "cell_type": "code",
   "execution_count": 12,
   "metadata": {},
   "outputs": [
    {
     "data": {
      "text/plain": [
       "Low Risk       32145\n",
       "High Risk       5399\n",
       "Medium Risk     1098\n",
       "Name: loan_status, dtype: int64"
      ]
     },
     "execution_count": 12,
     "metadata": {},
     "output_type": "execute_result"
    }
   ],
   "source": [
    "# Distribution of the target variable\n",
    "loan_data.loan_status.value_counts()"
   ]
  },
  {
   "cell_type": "markdown",
   "metadata": {},
   "source": [
    "## <b> Data Cleaning </b>"
   ]
  },
  {
   "cell_type": "code",
   "execution_count": 13,
   "metadata": {},
   "outputs": [
    {
     "data": {
      "text/plain": [
       "id             0\n",
       "loan_amnt      0\n",
       "funded_amnt    0\n",
       "int_rate       0\n",
       "installment    0\n",
       "emp_length     0\n",
       "annual_inc     0\n",
       "loan_status    0\n",
       "dtype: int64"
      ]
     },
     "execution_count": 13,
     "metadata": {},
     "output_type": "execute_result"
    }
   ],
   "source": [
    "#Check for null values\n",
    "loan_data.isnull().sum()"
   ]
  },
  {
   "cell_type": "code",
   "execution_count": 14,
   "metadata": {},
   "outputs": [
    {
     "data": {
      "text/plain": [
       "0"
      ]
     },
     "execution_count": 14,
     "metadata": {},
     "output_type": "execute_result"
    }
   ],
   "source": [
    "#Check for duplicate values\n",
    "loan_data.duplicated().sum()"
   ]
  },
  {
   "cell_type": "markdown",
   "metadata": {},
   "source": [
    "## <b> Feature Creation </b>\n",
    "<b> funded_amnt: </b> Percentage of amount sanctioned compared to the total loan amount. Higher the value, it states that the bank is positive in lending the loan to the customer. <br>\n",
    "<b> incToloan_perc: </b> Percentage of annual income when compared to the loan amount. Higher the value it states that the customer is more likely to pay back without defaulting."
   ]
  },
  {
   "cell_type": "code",
   "execution_count": 15,
   "metadata": {},
   "outputs": [],
   "source": [
    "# Adding new variables  \n",
    "# fund_perc variable represents the ratio of funded amount wrt loan amount\n",
    "loan_data[\"fund_perc\"] = loan_data[\"funded_amnt\"]/loan_data[\"loan_amnt\"] \n",
    "\n",
    "#incToloan_perc variable represent the ratio of annula income wrt loan amount\n",
    "loan_data[\"incToloan_perc\"] = loan_data[\"annual_inc\"]/loan_data[\"loan_amnt\"] \n"
   ]
  },
  {
   "cell_type": "code",
   "execution_count": 16,
   "metadata": {},
   "outputs": [
    {
     "data": {
      "text/html": [
       "<div>\n",
       "<style scoped>\n",
       "    .dataframe tbody tr th:only-of-type {\n",
       "        vertical-align: middle;\n",
       "    }\n",
       "\n",
       "    .dataframe tbody tr th {\n",
       "        vertical-align: top;\n",
       "    }\n",
       "\n",
       "    .dataframe thead th {\n",
       "        text-align: right;\n",
       "    }\n",
       "</style>\n",
       "<table border=\"1\" class=\"dataframe\">\n",
       "  <thead>\n",
       "    <tr style=\"text-align: right;\">\n",
       "      <th></th>\n",
       "      <th>id</th>\n",
       "      <th>loan_amnt</th>\n",
       "      <th>funded_amnt</th>\n",
       "      <th>int_rate</th>\n",
       "      <th>installment</th>\n",
       "      <th>emp_length</th>\n",
       "      <th>annual_inc</th>\n",
       "      <th>loan_status</th>\n",
       "      <th>fund_perc</th>\n",
       "      <th>incToloan_perc</th>\n",
       "    </tr>\n",
       "  </thead>\n",
       "  <tbody>\n",
       "    <tr>\n",
       "      <th>0</th>\n",
       "      <td>1077501</td>\n",
       "      <td>5000</td>\n",
       "      <td>5000</td>\n",
       "      <td>10.65</td>\n",
       "      <td>162.87</td>\n",
       "      <td>10</td>\n",
       "      <td>24000.0</td>\n",
       "      <td>Low Risk</td>\n",
       "      <td>1.0</td>\n",
       "      <td>4.8</td>\n",
       "    </tr>\n",
       "    <tr>\n",
       "      <th>1</th>\n",
       "      <td>1077430</td>\n",
       "      <td>2500</td>\n",
       "      <td>2500</td>\n",
       "      <td>15.27</td>\n",
       "      <td>59.83</td>\n",
       "      <td>1</td>\n",
       "      <td>30000.0</td>\n",
       "      <td>High Risk</td>\n",
       "      <td>1.0</td>\n",
       "      <td>12.0</td>\n",
       "    </tr>\n",
       "  </tbody>\n",
       "</table>\n",
       "</div>"
      ],
      "text/plain": [
       "        id  loan_amnt  funded_amnt  int_rate  installment  emp_length  \\\n",
       "0  1077501       5000         5000     10.65       162.87          10   \n",
       "1  1077430       2500         2500     15.27        59.83           1   \n",
       "\n",
       "   annual_inc loan_status  fund_perc  incToloan_perc  \n",
       "0     24000.0    Low Risk        1.0             4.8  \n",
       "1     30000.0   High Risk        1.0            12.0  "
      ]
     },
     "execution_count": 16,
     "metadata": {},
     "output_type": "execute_result"
    }
   ],
   "source": [
    "loan_data.head(2)"
   ]
  },
  {
   "cell_type": "code",
   "execution_count": 19,
   "metadata": {},
   "outputs": [
    {
     "data": {
      "text/html": [
       "<div>\n",
       "<style scoped>\n",
       "    .dataframe tbody tr th:only-of-type {\n",
       "        vertical-align: middle;\n",
       "    }\n",
       "\n",
       "    .dataframe tbody tr th {\n",
       "        vertical-align: top;\n",
       "    }\n",
       "\n",
       "    .dataframe thead th {\n",
       "        text-align: right;\n",
       "    }\n",
       "</style>\n",
       "<table border=\"1\" class=\"dataframe\">\n",
       "  <thead>\n",
       "    <tr style=\"text-align: right;\">\n",
       "      <th></th>\n",
       "      <th>count</th>\n",
       "      <th>mean</th>\n",
       "      <th>std</th>\n",
       "      <th>min</th>\n",
       "      <th>25%</th>\n",
       "      <th>50%</th>\n",
       "      <th>75%</th>\n",
       "      <th>max</th>\n",
       "    </tr>\n",
       "  </thead>\n",
       "  <tbody>\n",
       "    <tr>\n",
       "      <th>id</th>\n",
       "      <td>38642.0</td>\n",
       "      <td>681040.355391</td>\n",
       "      <td>211304.549803</td>\n",
       "      <td>54734.000000</td>\n",
       "      <td>513435.0000</td>\n",
       "      <td>662770.500000</td>\n",
       "      <td>836491.250000</td>\n",
       "      <td>1.077501e+06</td>\n",
       "    </tr>\n",
       "    <tr>\n",
       "      <th>loan_amnt</th>\n",
       "      <td>38642.0</td>\n",
       "      <td>11291.615988</td>\n",
       "      <td>7462.136215</td>\n",
       "      <td>500.000000</td>\n",
       "      <td>5500.0000</td>\n",
       "      <td>10000.000000</td>\n",
       "      <td>15000.000000</td>\n",
       "      <td>3.500000e+04</td>\n",
       "    </tr>\n",
       "    <tr>\n",
       "      <th>funded_amnt</th>\n",
       "      <td>38642.0</td>\n",
       "      <td>11017.101211</td>\n",
       "      <td>7193.038828</td>\n",
       "      <td>500.000000</td>\n",
       "      <td>5500.0000</td>\n",
       "      <td>9950.000000</td>\n",
       "      <td>15000.000000</td>\n",
       "      <td>3.500000e+04</td>\n",
       "    </tr>\n",
       "    <tr>\n",
       "      <th>int_rate</th>\n",
       "      <td>38642.0</td>\n",
       "      <td>12.052427</td>\n",
       "      <td>3.716705</td>\n",
       "      <td>5.420000</td>\n",
       "      <td>9.3200</td>\n",
       "      <td>11.860000</td>\n",
       "      <td>14.590000</td>\n",
       "      <td>2.459000e+01</td>\n",
       "    </tr>\n",
       "    <tr>\n",
       "      <th>installment</th>\n",
       "      <td>38642.0</td>\n",
       "      <td>326.760477</td>\n",
       "      <td>209.143908</td>\n",
       "      <td>15.690000</td>\n",
       "      <td>168.4425</td>\n",
       "      <td>282.830000</td>\n",
       "      <td>434.397500</td>\n",
       "      <td>1.305190e+03</td>\n",
       "    </tr>\n",
       "    <tr>\n",
       "      <th>emp_length</th>\n",
       "      <td>38642.0</td>\n",
       "      <td>5.092050</td>\n",
       "      <td>3.408338</td>\n",
       "      <td>1.000000</td>\n",
       "      <td>2.0000</td>\n",
       "      <td>4.000000</td>\n",
       "      <td>9.000000</td>\n",
       "      <td>1.000000e+01</td>\n",
       "    </tr>\n",
       "    <tr>\n",
       "      <th>annual_inc</th>\n",
       "      <td>38642.0</td>\n",
       "      <td>69608.277211</td>\n",
       "      <td>64253.202240</td>\n",
       "      <td>4000.000000</td>\n",
       "      <td>41400.0000</td>\n",
       "      <td>60000.000000</td>\n",
       "      <td>83199.990000</td>\n",
       "      <td>6.000000e+06</td>\n",
       "    </tr>\n",
       "    <tr>\n",
       "      <th>fund_perc</th>\n",
       "      <td>38642.0</td>\n",
       "      <td>0.985571</td>\n",
       "      <td>0.070317</td>\n",
       "      <td>0.101250</td>\n",
       "      <td>1.0000</td>\n",
       "      <td>1.000000</td>\n",
       "      <td>1.000000</td>\n",
       "      <td>1.000000e+00</td>\n",
       "    </tr>\n",
       "    <tr>\n",
       "      <th>incToloan_perc</th>\n",
       "      <td>38642.0</td>\n",
       "      <td>8.915950</td>\n",
       "      <td>13.845454</td>\n",
       "      <td>1.204819</td>\n",
       "      <td>4.0000</td>\n",
       "      <td>6.066667</td>\n",
       "      <td>10.016699</td>\n",
       "      <td>1.266667e+03</td>\n",
       "    </tr>\n",
       "  </tbody>\n",
       "</table>\n",
       "</div>"
      ],
      "text/plain": [
       "                  count           mean            std           min  \\\n",
       "id              38642.0  681040.355391  211304.549803  54734.000000   \n",
       "loan_amnt       38642.0   11291.615988    7462.136215    500.000000   \n",
       "funded_amnt     38642.0   11017.101211    7193.038828    500.000000   \n",
       "int_rate        38642.0      12.052427       3.716705      5.420000   \n",
       "installment     38642.0     326.760477     209.143908     15.690000   \n",
       "emp_length      38642.0       5.092050       3.408338      1.000000   \n",
       "annual_inc      38642.0   69608.277211   64253.202240   4000.000000   \n",
       "fund_perc       38642.0       0.985571       0.070317      0.101250   \n",
       "incToloan_perc  38642.0       8.915950      13.845454      1.204819   \n",
       "\n",
       "                        25%            50%            75%           max  \n",
       "id              513435.0000  662770.500000  836491.250000  1.077501e+06  \n",
       "loan_amnt         5500.0000   10000.000000   15000.000000  3.500000e+04  \n",
       "funded_amnt       5500.0000    9950.000000   15000.000000  3.500000e+04  \n",
       "int_rate             9.3200      11.860000      14.590000  2.459000e+01  \n",
       "installment        168.4425     282.830000     434.397500  1.305190e+03  \n",
       "emp_length           2.0000       4.000000       9.000000  1.000000e+01  \n",
       "annual_inc       41400.0000   60000.000000   83199.990000  6.000000e+06  \n",
       "fund_perc            1.0000       1.000000       1.000000  1.000000e+00  \n",
       "incToloan_perc       4.0000       6.066667      10.016699  1.266667e+03  "
      ]
     },
     "execution_count": 19,
     "metadata": {},
     "output_type": "execute_result"
    }
   ],
   "source": [
    "# Understanding distribution of all the numerical variables in dataset\n",
    "loan_data.describe().transpose()"
   ]
  },
  {
   "cell_type": "code",
   "execution_count": 22,
   "metadata": {},
   "outputs": [
    {
     "data": {
      "text/plain": [
       "Index(['id', 'loan_amnt', 'funded_amnt', 'int_rate', 'installment',\n",
       "       'emp_length', 'annual_inc', 'loan_status', 'fund_perc',\n",
       "       'incToloan_perc'],\n",
       "      dtype='object')"
      ]
     },
     "execution_count": 22,
     "metadata": {},
     "output_type": "execute_result"
    }
   ],
   "source": [
    "#column names\n",
    "loan_data.columns"
   ]
  },
  {
   "cell_type": "code",
   "execution_count": 23,
   "metadata": {},
   "outputs": [
    {
     "name": "stdout",
     "output_type": "stream",
     "text": [
      "<class 'pandas.core.frame.DataFrame'>\n",
      "RangeIndex: 38642 entries, 0 to 38641\n",
      "Data columns (total 10 columns):\n",
      " #   Column          Non-Null Count  Dtype  \n",
      "---  ------          --------------  -----  \n",
      " 0   id              38642 non-null  int64  \n",
      " 1   loan_amnt       38642 non-null  int64  \n",
      " 2   funded_amnt     38642 non-null  int64  \n",
      " 3   int_rate        38642 non-null  float64\n",
      " 4   installment     38642 non-null  float64\n",
      " 5   emp_length      38642 non-null  int64  \n",
      " 6   annual_inc      38642 non-null  float64\n",
      " 7   loan_status     38642 non-null  object \n",
      " 8   fund_perc       38642 non-null  float64\n",
      " 9   incToloan_perc  38642 non-null  float64\n",
      "dtypes: float64(5), int64(4), object(1)\n",
      "memory usage: 2.9+ MB\n"
     ]
    }
   ],
   "source": [
    "loan_data.info()"
   ]
  },
  {
   "cell_type": "markdown",
   "metadata": {},
   "source": [
    "## <b> Train-Test Split"
   ]
  },
  {
   "cell_type": "code",
   "execution_count": 26,
   "metadata": {},
   "outputs": [
    {
     "data": {
      "text/plain": [
       "Index(['id', 'loan_amnt', 'funded_amnt', 'int_rate', 'installment',\n",
       "       'emp_length', 'annual_inc', 'fund_perc', 'incToloan_perc'],\n",
       "      dtype='object')"
      ]
     },
     "execution_count": 26,
     "metadata": {},
     "output_type": "execute_result"
    }
   ],
   "source": [
    "loan_data.select_dtypes(np.number).columns"
   ]
  },
  {
   "cell_type": "code",
   "execution_count": 29,
   "metadata": {},
   "outputs": [],
   "source": [
    "# choosing all the numerical variables as independent variables (classifier can only take numerical input)\n",
    "# dropping two variable funded_amnt as we have created new variable transformation based on it \n",
    "X = loan_data.select_dtypes(np.number).drop(['id','funded_amnt'],axis=1)\n",
    "\n",
    "#Dependent variable representing status of the loan\n",
    "Y = loan_data['loan_status']\n",
    "\n",
    "#splitting the dataset in train and test datasets using a split ratio of 70:30\n",
    "from sklearn.model_selection import train_test_split\n",
    "X_train,X_test,y_train,y_test = train_test_split(X,Y,test_size=0.3,random_state=100)\n",
    "\n",
    "# standardizing all the variables using standard scaler\n",
    "from sklearn.preprocessing import StandardScaler\n",
    "scaler = StandardScaler()\n",
    "X_train_scaled = scaler.fit_transform(X_train)\n",
    "X_test_scaled = scaler.transform(X_test)"
   ]
  },
  {
   "cell_type": "markdown",
   "metadata": {},
   "source": [
    "## <b> Model Building"
   ]
  },
  {
   "cell_type": "code",
   "execution_count": null,
   "metadata": {},
   "outputs": [],
   "source": [
    "from sklearn.linear_model import LogisticRegression \n",
    "from sklearn.multiclass import OneVsRestClassifier, OneVsOneClassifier\n",
    "from sklearn.svm import SVC\n",
    "from sklearn.metrics import accuracy_score, classification_report\n",
    "from sklearn.model_selection import train_test_split\n",
    "import warnings"
   ]
  },
  {
   "cell_type": "code",
   "execution_count": 32,
   "metadata": {},
   "outputs": [],
   "source": [
    "# Important library\n",
    "from sklearn.linear_model import LogisticRegression\n",
    "from sklearn.multiclass import OneVsRestClassifier, OneVsOneClassifier\n",
    "from sklearn.svm import SVC\n",
    "from sklearn.metrics import accuracy_score, classification_report\n",
    "import warnings\n",
    "warnings.filterwarnings(\"ignore\")"
   ]
  },
  {
   "cell_type": "code",
   "execution_count": 33,
   "metadata": {},
   "outputs": [
    {
     "data": {
      "text/plain": [
       "OneVsRestClassifier(estimator=LogisticRegression())"
      ]
     },
     "execution_count": 33,
     "metadata": {},
     "output_type": "execute_result"
    }
   ],
   "source": [
    "\n",
    "# Building a classification model using one vs rest methoda\n",
    "\n",
    "lr = LogisticRegression()\n",
    "oneVsrest = OneVsRestClassifier(lr)\n",
    "\n",
    "# Fitting the model with training data\n",
    "\n",
    "oneVsrest.fit(X_train_scaled,y_train)\n"
   ]
  },
  {
   "cell_type": "markdown",
   "metadata": {},
   "source": [
    "## <b>Step 3 : </b>\n",
    "<b> Model Prediction </b>"
   ]
  },
  {
   "cell_type": "code",
   "execution_count": 34,
   "metadata": {},
   "outputs": [
    {
     "name": "stdout",
     "output_type": "stream",
     "text": [
      "Test Set Accuracy :82.94660571034245%\n",
      "\n",
      "\n",
      "Classification Report :\n",
      "\n",
      "              precision    recall  f1-score   support\n",
      "\n",
      "   High Risk       0.47      0.01      0.02      1665\n",
      "    Low Risk       0.83      1.00      0.91      9612\n",
      " Medium Risk       0.00      0.00      0.00       316\n",
      "\n",
      "    accuracy                           0.83     11593\n",
      "   macro avg       0.43      0.34      0.31     11593\n",
      "weighted avg       0.76      0.83      0.75     11593\n",
      "\n"
     ]
    }
   ],
   "source": [
    "# Making a prediction on the test set\n",
    "prediction_oneVsrest = oneVsrest.predict(X_test_scaled)\n",
    "\n",
    "   \n",
    "# Evaluating the model\n",
    "\n",
    "print(f\"Test Set Accuracy :{accuracy_score(y_test,prediction_oneVsrest)*100}%\\n\\n\")\n",
    "print(f\"Classification Report :\\n\\n{classification_report(y_test,prediction_oneVsrest)}\")\n"
   ]
  },
  {
   "cell_type": "markdown",
   "metadata": {},
   "source": [
    "<b> Accuracy : </b> Accuracy is the most intuitive performance measure and it is simply a ratio of correctly predicted observation to the total observations.The formula is given as: <br>\n",
    "<b> *Accuracy = True Positives + True Negatives/True Positives+False Positives+False Negatives+True Positives* </b> <br> <br>\n",
    "<b> Precision : </b> The quality of being exact and refers to how close two or more measurements are to each other, regardless of whether those measurements are accurate or not. The formula is : <br>\n",
    "<b> *Precision = True Positives / (True Positives + False Positives)* </b> <br> <br>\n",
    "<b> Recall : </b> It is calculated as the number of true positives divided by the total number of true positives and false negatives. The result is a value between 0.0 for no recall and 1.0 for full or perfect recall. The formula is : <br>\n",
    "<b> *Recall = True Positives / (True Positives + False Negatives)* </b> <br> <br>\n",
    "<b> F1 score : </b> F1 Score is the weighted average of Precision and Recall. Therefore, this score takes both false positives and false negatives into account.The highest possible value of an F-score is 1.0, indicating perfect precision and recall, and the lowest possible value is 0, if either the precision or the recall is zero. The formula is : <br>\n",
    "<b> *F1 score = 2\\*((precision\\*recall)/(precision+recall))* </b> <br> <br>"
   ]
  },
  {
   "cell_type": "markdown",
   "metadata": {},
   "source": [
    "## <b>Analysing the probabilties and classification values </b>"
   ]
  },
  {
   "cell_type": "code",
   "execution_count": 38,
   "metadata": {
    "scrolled": false
   },
   "outputs": [
    {
     "data": {
      "text/html": [
       "<div>\n",
       "<style scoped>\n",
       "    .dataframe tbody tr th:only-of-type {\n",
       "        vertical-align: middle;\n",
       "    }\n",
       "\n",
       "    .dataframe tbody tr th {\n",
       "        vertical-align: top;\n",
       "    }\n",
       "\n",
       "    .dataframe thead th {\n",
       "        text-align: right;\n",
       "    }\n",
       "</style>\n",
       "<table border=\"1\" class=\"dataframe\">\n",
       "  <thead>\n",
       "    <tr style=\"text-align: right;\">\n",
       "      <th></th>\n",
       "      <th>loan_amnt</th>\n",
       "      <th>int_rate</th>\n",
       "      <th>installment</th>\n",
       "      <th>emp_length</th>\n",
       "      <th>annual_inc</th>\n",
       "      <th>fund_perc</th>\n",
       "      <th>incToloan_perc</th>\n",
       "      <th>Scaled_features</th>\n",
       "      <th>Actual</th>\n",
       "      <th>Prediction_oneVsrest</th>\n",
       "      <th>Prob_pred_oneVsrest</th>\n",
       "      <th>prob_oneVsrest_highRisk</th>\n",
       "      <th>prob_oneVsrest_lowRisk</th>\n",
       "      <th>prob_oneVsrest_mediumRisk</th>\n",
       "    </tr>\n",
       "  </thead>\n",
       "  <tbody>\n",
       "    <tr>\n",
       "      <th>13544</th>\n",
       "      <td>24000</td>\n",
       "      <td>11.99</td>\n",
       "      <td>533.75</td>\n",
       "      <td>10</td>\n",
       "      <td>84996.0</td>\n",
       "      <td>1.0</td>\n",
       "      <td>3.541500</td>\n",
       "      <td>[1.6976067970323159, -0.017103257487488508, 0....</td>\n",
       "      <td>Low Risk</td>\n",
       "      <td>Low Risk</td>\n",
       "      <td>[0.145407048287554, 0.6705568181704201, 0.1840...</td>\n",
       "      <td>0.145407</td>\n",
       "      <td>0.670557</td>\n",
       "      <td>0.184036</td>\n",
       "    </tr>\n",
       "    <tr>\n",
       "      <th>20268</th>\n",
       "      <td>12500</td>\n",
       "      <td>13.43</td>\n",
       "      <td>423.77</td>\n",
       "      <td>1</td>\n",
       "      <td>58000.0</td>\n",
       "      <td>1.0</td>\n",
       "      <td>4.640000</td>\n",
       "      <td>[0.15662313180383905, 0.37089505172108733, 0.4...</td>\n",
       "      <td>Low Risk</td>\n",
       "      <td>Low Risk</td>\n",
       "      <td>[0.13443332466561403, 0.8637730013278444, 0.00...</td>\n",
       "      <td>0.134433</td>\n",
       "      <td>0.863773</td>\n",
       "      <td>0.001794</td>\n",
       "    </tr>\n",
       "    <tr>\n",
       "      <th>35271</th>\n",
       "      <td>1700</td>\n",
       "      <td>13.16</td>\n",
       "      <td>57.41</td>\n",
       "      <td>1</td>\n",
       "      <td>14000.0</td>\n",
       "      <td>1.0</td>\n",
       "      <td>8.235294</td>\n",
       "      <td>[-1.2905615277150784, 0.29814536874447944, -1....</td>\n",
       "      <td>Low Risk</td>\n",
       "      <td>Low Risk</td>\n",
       "      <td>[0.1752122244548154, 0.8066509312052925, 0.018...</td>\n",
       "      <td>0.175212</td>\n",
       "      <td>0.806651</td>\n",
       "      <td>0.018137</td>\n",
       "    </tr>\n",
       "    <tr>\n",
       "      <th>29133</th>\n",
       "      <td>10000</td>\n",
       "      <td>12.73</td>\n",
       "      <td>335.67</td>\n",
       "      <td>10</td>\n",
       "      <td>60000.0</td>\n",
       "      <td>1.0</td>\n",
       "      <td>6.000000</td>\n",
       "      <td>[-0.1783733171588733, 0.1822847625224742, 0.03...</td>\n",
       "      <td>High Risk</td>\n",
       "      <td>Low Risk</td>\n",
       "      <td>[0.13835020398997258, 0.8570853687482336, 0.00...</td>\n",
       "      <td>0.138350</td>\n",
       "      <td>0.857085</td>\n",
       "      <td>0.004564</td>\n",
       "    </tr>\n",
       "    <tr>\n",
       "      <th>2974</th>\n",
       "      <td>1300</td>\n",
       "      <td>7.90</td>\n",
       "      <td>40.68</td>\n",
       "      <td>1</td>\n",
       "      <td>41000.0</td>\n",
       "      <td>1.0</td>\n",
       "      <td>31.538462</td>\n",
       "      <td>[-1.3441609595491122, -1.1191262329479577, -1....</td>\n",
       "      <td>Low Risk</td>\n",
       "      <td>Low Risk</td>\n",
       "      <td>[0.0718346970559761, 0.925985425818249, 0.0021...</td>\n",
       "      <td>0.071835</td>\n",
       "      <td>0.925985</td>\n",
       "      <td>0.002180</td>\n",
       "    </tr>\n",
       "  </tbody>\n",
       "</table>\n",
       "</div>"
      ],
      "text/plain": [
       "       loan_amnt  int_rate  installment  emp_length  annual_inc  fund_perc  \\\n",
       "13544      24000     11.99       533.75          10     84996.0        1.0   \n",
       "20268      12500     13.43       423.77           1     58000.0        1.0   \n",
       "35271       1700     13.16        57.41           1     14000.0        1.0   \n",
       "29133      10000     12.73       335.67          10     60000.0        1.0   \n",
       "2974        1300      7.90        40.68           1     41000.0        1.0   \n",
       "\n",
       "       incToloan_perc                                    Scaled_features  \\\n",
       "13544        3.541500  [1.6976067970323159, -0.017103257487488508, 0....   \n",
       "20268        4.640000  [0.15662313180383905, 0.37089505172108733, 0.4...   \n",
       "35271        8.235294  [-1.2905615277150784, 0.29814536874447944, -1....   \n",
       "29133        6.000000  [-0.1783733171588733, 0.1822847625224742, 0.03...   \n",
       "2974        31.538462  [-1.3441609595491122, -1.1191262329479577, -1....   \n",
       "\n",
       "          Actual Prediction_oneVsrest  \\\n",
       "13544   Low Risk             Low Risk   \n",
       "20268   Low Risk             Low Risk   \n",
       "35271   Low Risk             Low Risk   \n",
       "29133  High Risk             Low Risk   \n",
       "2974    Low Risk             Low Risk   \n",
       "\n",
       "                                     Prob_pred_oneVsrest  \\\n",
       "13544  [0.145407048287554, 0.6705568181704201, 0.1840...   \n",
       "20268  [0.13443332466561403, 0.8637730013278444, 0.00...   \n",
       "35271  [0.1752122244548154, 0.8066509312052925, 0.018...   \n",
       "29133  [0.13835020398997258, 0.8570853687482336, 0.00...   \n",
       "2974   [0.0718346970559761, 0.925985425818249, 0.0021...   \n",
       "\n",
       "       prob_oneVsrest_highRisk  prob_oneVsrest_lowRisk  \\\n",
       "13544                 0.145407                0.670557   \n",
       "20268                 0.134433                0.863773   \n",
       "35271                 0.175212                0.806651   \n",
       "29133                 0.138350                0.857085   \n",
       "2974                  0.071835                0.925985   \n",
       "\n",
       "       prob_oneVsrest_mediumRisk  \n",
       "13544                   0.184036  \n",
       "20268                   0.001794  \n",
       "35271                   0.018137  \n",
       "29133                   0.004564  \n",
       "2974                    0.002180  "
      ]
     },
     "execution_count": 38,
     "metadata": {},
     "output_type": "execute_result"
    }
   ],
   "source": [
    "# Adding followig variables to the test dataset\n",
    "\n",
    "#Scaled feature array\n",
    "\n",
    "X_test[\"Scaled_features\"] = X_test_scaled.tolist()\n",
    "\n",
    "#Actual target variable\n",
    "X_test[\"Actual\"] = y_test\n",
    "\n",
    "#OnevsRest target prediction\n",
    "X_test[\"Prediction_oneVsrest\"]= prediction_oneVsrest\n",
    "\n",
    "#OnevsRest probability prediction\n",
    "X_test[\"Prob_pred_oneVsrest\"] = oneVsrest.predict_proba(X_test_scaled).tolist()\n",
    "#OnevsRest individual class prediction probabilities\n",
    "\n",
    "X_test['prob_oneVsrest_highRisk'] = oneVsrest.predict_proba(X_test_scaled)[:,0].tolist()\n",
    "X_test['prob_oneVsrest_lowRisk'] = oneVsrest.predict_proba(X_test_scaled)[:,1].tolist()\n",
    "X_test['prob_oneVsrest_mediumRisk'] = oneVsrest.predict_proba(X_test_scaled)[:,2].tolist()\n",
    "X_test.head()"
   ]
  },
  {
   "cell_type": "markdown",
   "metadata": {},
   "source": [
    "## <b>Display the coefficient and intercept values for each Logistic Regression model </b>"
   ]
  },
  {
   "cell_type": "code",
   "execution_count": 40,
   "metadata": {},
   "outputs": [
    {
     "name": "stdout",
     "output_type": "stream",
     "text": [
      "['High Risk' 'Low Risk' 'Medium Risk']\n",
      "(3, 7)\n",
      "\n",
      "intercept values\n",
      "[[-1.98702862]\n",
      " [ 1.81436432]\n",
      " [-5.11248147]]\n",
      "\n",
      " Coefficent values\n",
      "[[ 0.39851727  0.59347116 -0.38860129  0.04331238 -0.39891493  0.02934282\n",
      "  -0.01457014]\n",
      " [-1.16799074 -0.63873289  1.13309613 -0.07050531  0.30833649 -0.21800131\n",
      "   0.09024585]\n",
      " [ 4.9602886   0.96920326 -5.59110894  0.17542626  0.1334617   1.39128615\n",
      "  -0.64155322]]\n"
     ]
    }
   ],
   "source": [
    "# Classes for which individual models are created\n",
    "\n",
    "print(oneVsrest.classes_)\n",
    "\n",
    "#Coefficient matrix for all the models created\n",
    "\n",
    "print(oneVsrest.coef_.shape)\n",
    "\n",
    "#Intercept values for all the models created\n",
    "print(\"\\nintercept values\")\n",
    "print(oneVsrest.intercept_)\n",
    "\n",
    "#Coefficient values for all the models created\n",
    "print(\"\\n Coefficent values\")\n",
    "coeff_array = oneVsrest.coef_\n",
    "print(coeff_array)"
   ]
  },
  {
   "cell_type": "markdown",
   "metadata": {},
   "source": [
    "## <b>Analyse probability values for one test sample</b>"
   ]
  },
  {
   "cell_type": "code",
   "execution_count": 41,
   "metadata": {},
   "outputs": [
    {
     "name": "stdout",
     "output_type": "stream",
     "text": [
      "[0.145407048287554, 0.6705568181704201, 0.18403613354202591]\n"
     ]
    }
   ],
   "source": [
    "print(X_test.iloc[0][\"Prob_pred_oneVsrest\"])"
   ]
  },
  {
   "cell_type": "markdown",
   "metadata": {},
   "source": [
    "## <b>Understand the mathematics and calculations inside the Model </b>"
   ]
  },
  {
   "cell_type": "code",
   "execution_count": null,
   "metadata": {},
   "outputs": [],
   "source": [
    "#Below example demonstrate the calculation of prediction probability for a observation in the dataset\n",
    "#The demonstartion uses coefficient values of each model for the calculation\n",
    "\n",
    "# Choose the first observation\n",
    "arr = X_test.iloc[0]\n",
    "# Class calculates the log of odds value for a given class\n",
    "\n",
    "# Calculates the probability values given the log of odds\n",
    "\n",
    "\n",
    "#Non-normalized probability of all the classes\n",
    "\n",
    "\n",
    "#Normalized probability of all the classes\n"
   ]
  },
  {
   "cell_type": "markdown",
   "metadata": {},
   "source": [
    "## <b> Building Logistic Regression Model and using it in One vs One Classifier </b>"
   ]
  },
  {
   "cell_type": "code",
   "execution_count": null,
   "metadata": {},
   "outputs": [],
   "source": [
    "#Classification using OnevsOne method\n",
    "\n",
    "\n",
    "# Fitting the model with training data\n",
    "\n",
    "   \n",
    "# Making a prediction on the test set\n"
   ]
  },
  {
   "cell_type": "markdown",
   "metadata": {},
   "source": [
    "## <b> Model Prediction </b>"
   ]
  },
  {
   "cell_type": "code",
   "execution_count": null,
   "metadata": {},
   "outputs": [],
   "source": [
    "# Evaluating the model\n"
   ]
  },
  {
   "cell_type": "markdown",
   "metadata": {},
   "source": [
    "## <b>Analysing the probabilties and classification values </b>"
   ]
  },
  {
   "cell_type": "code",
   "execution_count": null,
   "metadata": {},
   "outputs": [],
   "source": [
    "# Adding followig variables to the test dataset\n",
    "\n",
    "#OnevsOne target prediction\n"
   ]
  },
  {
   "cell_type": "markdown",
   "metadata": {},
   "source": [
    "## <b>Display the parameters and coefficients for each Logistic Regression model </b>"
   ]
  },
  {
   "cell_type": "code",
   "execution_count": null,
   "metadata": {},
   "outputs": [],
   "source": [
    "#OneVsOne.classes_"
   ]
  },
  {
   "cell_type": "code",
   "execution_count": null,
   "metadata": {},
   "outputs": [],
   "source": []
  },
  {
   "cell_type": "code",
   "execution_count": null,
   "metadata": {},
   "outputs": [],
   "source": []
  }
 ],
 "metadata": {
  "kernelspec": {
   "display_name": "Python 3",
   "language": "python",
   "name": "python3"
  },
  "language_info": {
   "codemirror_mode": {
    "name": "ipython",
    "version": 3
   },
   "file_extension": ".py",
   "mimetype": "text/x-python",
   "name": "python",
   "nbconvert_exporter": "python",
   "pygments_lexer": "ipython3",
   "version": "3.8.8"
  }
 },
 "nbformat": 4,
 "nbformat_minor": 4
}
