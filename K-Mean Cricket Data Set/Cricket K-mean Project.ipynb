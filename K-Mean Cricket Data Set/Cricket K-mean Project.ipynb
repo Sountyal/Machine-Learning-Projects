{
 "cells": [
  {
   "cell_type": "markdown",
   "id": "5430a70d",
   "metadata": {},
   "source": [
    "- WE have Given a Cricket Data set to Analysis\n",
    "- Choose strike rate and average as the two factors on which you will cluster the data\n"
   ]
  },
  {
   "cell_type": "code",
   "execution_count": 1,
   "id": "f0ed257f",
   "metadata": {},
   "outputs": [],
   "source": [
    "# Importing the Important Libraries\n",
    "import numpy as np, pandas as pd\n",
    "import matplotlib.pyplot as plt, seaborn as sns\n",
    "import warnings\n",
    "warnings.filterwarnings(\"ignore\")"
   ]
  },
  {
   "cell_type": "code",
   "execution_count": 2,
   "id": "7fedda6e",
   "metadata": {},
   "outputs": [
    {
     "data": {
      "text/html": [
       "<div>\n",
       "<style scoped>\n",
       "    .dataframe tbody tr th:only-of-type {\n",
       "        vertical-align: middle;\n",
       "    }\n",
       "\n",
       "    .dataframe tbody tr th {\n",
       "        vertical-align: top;\n",
       "    }\n",
       "\n",
       "    .dataframe thead th {\n",
       "        text-align: right;\n",
       "    }\n",
       "</style>\n",
       "<table border=\"1\" class=\"dataframe\">\n",
       "  <thead>\n",
       "    <tr style=\"text-align: right;\">\n",
       "      <th></th>\n",
       "      <th>Player</th>\n",
       "      <th>Span</th>\n",
       "      <th>Mat</th>\n",
       "      <th>Inns</th>\n",
       "      <th>NO</th>\n",
       "      <th>Runs</th>\n",
       "      <th>HS</th>\n",
       "      <th>Ave</th>\n",
       "      <th>BF</th>\n",
       "      <th>SR</th>\n",
       "      <th>100</th>\n",
       "      <th>50</th>\n",
       "      <th>0</th>\n",
       "    </tr>\n",
       "  </thead>\n",
       "  <tbody>\n",
       "    <tr>\n",
       "      <th>0</th>\n",
       "      <td>SR Tendulkar�(INDIA)</td>\n",
       "      <td>1989-2012</td>\n",
       "      <td>463</td>\n",
       "      <td>452</td>\n",
       "      <td>41</td>\n",
       "      <td>18426</td>\n",
       "      <td>200*</td>\n",
       "      <td>44.83</td>\n",
       "      <td>21367</td>\n",
       "      <td>86.23</td>\n",
       "      <td>49</td>\n",
       "      <td>96</td>\n",
       "      <td>20</td>\n",
       "    </tr>\n",
       "    <tr>\n",
       "      <th>1</th>\n",
       "      <td>KC Sangakkara�(Asia/ICC/SL)</td>\n",
       "      <td>2000-2015</td>\n",
       "      <td>404</td>\n",
       "      <td>380</td>\n",
       "      <td>41</td>\n",
       "      <td>14234</td>\n",
       "      <td>169</td>\n",
       "      <td>41.98</td>\n",
       "      <td>18048</td>\n",
       "      <td>78.86</td>\n",
       "      <td>25</td>\n",
       "      <td>93</td>\n",
       "      <td>15</td>\n",
       "    </tr>\n",
       "    <tr>\n",
       "      <th>2</th>\n",
       "      <td>RT Ponting�(AUS/ICC)</td>\n",
       "      <td>1995-2012</td>\n",
       "      <td>375</td>\n",
       "      <td>365</td>\n",
       "      <td>39</td>\n",
       "      <td>13704</td>\n",
       "      <td>164</td>\n",
       "      <td>42.03</td>\n",
       "      <td>17046</td>\n",
       "      <td>80.39</td>\n",
       "      <td>30</td>\n",
       "      <td>82</td>\n",
       "      <td>20</td>\n",
       "    </tr>\n",
       "    <tr>\n",
       "      <th>3</th>\n",
       "      <td>ST Jayasuriya�(Asia/SL)</td>\n",
       "      <td>1989-2011</td>\n",
       "      <td>445</td>\n",
       "      <td>433</td>\n",
       "      <td>18</td>\n",
       "      <td>13430</td>\n",
       "      <td>189</td>\n",
       "      <td>32.36</td>\n",
       "      <td>14725</td>\n",
       "      <td>91.20</td>\n",
       "      <td>28</td>\n",
       "      <td>68</td>\n",
       "      <td>34</td>\n",
       "    </tr>\n",
       "    <tr>\n",
       "      <th>4</th>\n",
       "      <td>DPMD Jayawardene�(Asia/SL)</td>\n",
       "      <td>1998-2015</td>\n",
       "      <td>448</td>\n",
       "      <td>418</td>\n",
       "      <td>39</td>\n",
       "      <td>12650</td>\n",
       "      <td>144</td>\n",
       "      <td>33.37</td>\n",
       "      <td>16020</td>\n",
       "      <td>78.96</td>\n",
       "      <td>19</td>\n",
       "      <td>77</td>\n",
       "      <td>28</td>\n",
       "    </tr>\n",
       "  </tbody>\n",
       "</table>\n",
       "</div>"
      ],
      "text/plain": [
       "                        Player       Span  Mat  Inns  NO   Runs    HS    Ave  \\\n",
       "0         SR Tendulkar�(INDIA)  1989-2012  463   452  41  18426  200*  44.83   \n",
       "1  KC Sangakkara�(Asia/ICC/SL)  2000-2015  404   380  41  14234   169  41.98   \n",
       "2         RT Ponting�(AUS/ICC)  1995-2012  375   365  39  13704   164  42.03   \n",
       "3      ST Jayasuriya�(Asia/SL)  1989-2011  445   433  18  13430   189  32.36   \n",
       "4   DPMD Jayawardene�(Asia/SL)  1998-2015  448   418  39  12650   144  33.37   \n",
       "\n",
       "      BF     SR  100  50   0  \n",
       "0  21367  86.23   49  96  20  \n",
       "1  18048  78.86   25  93  15  \n",
       "2  17046  80.39   30  82  20  \n",
       "3  14725  91.20   28  68  34  \n",
       "4  16020  78.96   19  77  28  "
      ]
     },
     "execution_count": 2,
     "metadata": {},
     "output_type": "execute_result"
    }
   ],
   "source": [
    "Cricket = pd.read_csv(\"Cricket.csv\")\n",
    "Cricket.head()"
   ]
  },
  {
   "cell_type": "code",
   "execution_count": 3,
   "id": "50f60caa",
   "metadata": {},
   "outputs": [
    {
     "data": {
      "text/plain": [
       "(79, 13)"
      ]
     },
     "execution_count": 3,
     "metadata": {},
     "output_type": "execute_result"
    }
   ],
   "source": [
    "Cricket.shape"
   ]
  },
  {
   "cell_type": "code",
   "execution_count": 4,
   "id": "254c72f7",
   "metadata": {},
   "outputs": [
    {
     "name": "stdout",
     "output_type": "stream",
     "text": [
      "<class 'pandas.core.frame.DataFrame'>\n",
      "RangeIndex: 79 entries, 0 to 78\n",
      "Data columns (total 13 columns):\n",
      " #   Column  Non-Null Count  Dtype  \n",
      "---  ------  --------------  -----  \n",
      " 0   Player  79 non-null     object \n",
      " 1   Span    79 non-null     object \n",
      " 2   Mat     79 non-null     int64  \n",
      " 3   Inns    79 non-null     int64  \n",
      " 4   NO      79 non-null     int64  \n",
      " 5   Runs    79 non-null     int64  \n",
      " 6   HS      79 non-null     object \n",
      " 7   Ave     79 non-null     float64\n",
      " 8   BF      79 non-null     int64  \n",
      " 9   SR      79 non-null     float64\n",
      " 10  100     79 non-null     int64  \n",
      " 11  50      79 non-null     int64  \n",
      " 12  0       79 non-null     int64  \n",
      "dtypes: float64(2), int64(8), object(3)\n",
      "memory usage: 8.1+ KB\n"
     ]
    }
   ],
   "source": [
    "Cricket.info()"
   ]
  },
  {
   "cell_type": "code",
   "execution_count": 5,
   "id": "be43e090",
   "metadata": {},
   "outputs": [
    {
     "data": {
      "text/html": [
       "<div>\n",
       "<style scoped>\n",
       "    .dataframe tbody tr th:only-of-type {\n",
       "        vertical-align: middle;\n",
       "    }\n",
       "\n",
       "    .dataframe tbody tr th {\n",
       "        vertical-align: top;\n",
       "    }\n",
       "\n",
       "    .dataframe thead th {\n",
       "        text-align: right;\n",
       "    }\n",
       "</style>\n",
       "<table border=\"1\" class=\"dataframe\">\n",
       "  <thead>\n",
       "    <tr style=\"text-align: right;\">\n",
       "      <th></th>\n",
       "      <th>count</th>\n",
       "      <th>mean</th>\n",
       "      <th>std</th>\n",
       "      <th>min</th>\n",
       "      <th>25%</th>\n",
       "      <th>50%</th>\n",
       "      <th>75%</th>\n",
       "      <th>max</th>\n",
       "    </tr>\n",
       "  </thead>\n",
       "  <tbody>\n",
       "    <tr>\n",
       "      <th>Mat</th>\n",
       "      <td>79.0</td>\n",
       "      <td>245.075949</td>\n",
       "      <td>74.211716</td>\n",
       "      <td>128.00</td>\n",
       "      <td>188.000</td>\n",
       "      <td>232.00</td>\n",
       "      <td>281.500</td>\n",
       "      <td>463.00</td>\n",
       "    </tr>\n",
       "    <tr>\n",
       "      <th>Inns</th>\n",
       "      <td>79.0</td>\n",
       "      <td>230.544304</td>\n",
       "      <td>70.321022</td>\n",
       "      <td>127.00</td>\n",
       "      <td>177.000</td>\n",
       "      <td>217.00</td>\n",
       "      <td>261.500</td>\n",
       "      <td>452.00</td>\n",
       "    </tr>\n",
       "    <tr>\n",
       "      <th>NO</th>\n",
       "      <td>79.0</td>\n",
       "      <td>30.037975</td>\n",
       "      <td>14.421710</td>\n",
       "      <td>4.00</td>\n",
       "      <td>17.500</td>\n",
       "      <td>29.00</td>\n",
       "      <td>40.000</td>\n",
       "      <td>70.00</td>\n",
       "    </tr>\n",
       "    <tr>\n",
       "      <th>Runs</th>\n",
       "      <td>79.0</td>\n",
       "      <td>7618.139241</td>\n",
       "      <td>2551.873313</td>\n",
       "      <td>5080.00</td>\n",
       "      <td>5759.000</td>\n",
       "      <td>6798.00</td>\n",
       "      <td>8739.500</td>\n",
       "      <td>18426.00</td>\n",
       "    </tr>\n",
       "    <tr>\n",
       "      <th>Ave</th>\n",
       "      <td>79.0</td>\n",
       "      <td>38.523291</td>\n",
       "      <td>5.919093</td>\n",
       "      <td>23.57</td>\n",
       "      <td>34.600</td>\n",
       "      <td>37.87</td>\n",
       "      <td>41.845</td>\n",
       "      <td>53.94</td>\n",
       "    </tr>\n",
       "    <tr>\n",
       "      <th>BF</th>\n",
       "      <td>79.0</td>\n",
       "      <td>9684.455696</td>\n",
       "      <td>3193.835825</td>\n",
       "      <td>5504.00</td>\n",
       "      <td>7393.500</td>\n",
       "      <td>9134.00</td>\n",
       "      <td>10976.000</td>\n",
       "      <td>21367.00</td>\n",
       "    </tr>\n",
       "    <tr>\n",
       "      <th>SR</th>\n",
       "      <td>79.0</td>\n",
       "      <td>79.295316</td>\n",
       "      <td>9.925307</td>\n",
       "      <td>60.57</td>\n",
       "      <td>73.725</td>\n",
       "      <td>77.73</td>\n",
       "      <td>85.180</td>\n",
       "      <td>117.00</td>\n",
       "    </tr>\n",
       "    <tr>\n",
       "      <th>100</th>\n",
       "      <td>79.0</td>\n",
       "      <td>11.556962</td>\n",
       "      <td>8.092014</td>\n",
       "      <td>0.00</td>\n",
       "      <td>6.000</td>\n",
       "      <td>10.00</td>\n",
       "      <td>15.500</td>\n",
       "      <td>49.00</td>\n",
       "    </tr>\n",
       "    <tr>\n",
       "      <th>50</th>\n",
       "      <td>79.0</td>\n",
       "      <td>46.443038</td>\n",
       "      <td>16.351701</td>\n",
       "      <td>23.00</td>\n",
       "      <td>34.500</td>\n",
       "      <td>42.00</td>\n",
       "      <td>54.000</td>\n",
       "      <td>96.00</td>\n",
       "    </tr>\n",
       "    <tr>\n",
       "      <th>0</th>\n",
       "      <td>79.0</td>\n",
       "      <td>13.253165</td>\n",
       "      <td>5.925755</td>\n",
       "      <td>3.00</td>\n",
       "      <td>9.000</td>\n",
       "      <td>13.00</td>\n",
       "      <td>16.000</td>\n",
       "      <td>34.00</td>\n",
       "    </tr>\n",
       "  </tbody>\n",
       "</table>\n",
       "</div>"
      ],
      "text/plain": [
       "      count         mean          std      min       25%      50%        75%  \\\n",
       "Mat    79.0   245.075949    74.211716   128.00   188.000   232.00    281.500   \n",
       "Inns   79.0   230.544304    70.321022   127.00   177.000   217.00    261.500   \n",
       "NO     79.0    30.037975    14.421710     4.00    17.500    29.00     40.000   \n",
       "Runs   79.0  7618.139241  2551.873313  5080.00  5759.000  6798.00   8739.500   \n",
       "Ave    79.0    38.523291     5.919093    23.57    34.600    37.87     41.845   \n",
       "BF     79.0  9684.455696  3193.835825  5504.00  7393.500  9134.00  10976.000   \n",
       "SR     79.0    79.295316     9.925307    60.57    73.725    77.73     85.180   \n",
       "100    79.0    11.556962     8.092014     0.00     6.000    10.00     15.500   \n",
       "50     79.0    46.443038    16.351701    23.00    34.500    42.00     54.000   \n",
       "0      79.0    13.253165     5.925755     3.00     9.000    13.00     16.000   \n",
       "\n",
       "           max  \n",
       "Mat     463.00  \n",
       "Inns    452.00  \n",
       "NO       70.00  \n",
       "Runs  18426.00  \n",
       "Ave      53.94  \n",
       "BF    21367.00  \n",
       "SR      117.00  \n",
       "100      49.00  \n",
       "50       96.00  \n",
       "0        34.00  "
      ]
     },
     "execution_count": 5,
     "metadata": {},
     "output_type": "execute_result"
    }
   ],
   "source": [
    "Cricket.describe().transpose()"
   ]
  },
  {
   "cell_type": "code",
   "execution_count": 6,
   "id": "e93af37d",
   "metadata": {},
   "outputs": [
    {
     "data": {
      "text/plain": [
       "Player    0\n",
       "Span      0\n",
       "Mat       0\n",
       "Inns      0\n",
       "NO        0\n",
       "Runs      0\n",
       "HS        0\n",
       "Ave       0\n",
       "BF        0\n",
       "SR        0\n",
       "100       0\n",
       "50        0\n",
       "0         0\n",
       "dtype: int64"
      ]
     },
     "execution_count": 6,
     "metadata": {},
     "output_type": "execute_result"
    }
   ],
   "source": [
    "Cricket.isnull().sum()"
   ]
  },
  {
   "cell_type": "code",
   "execution_count": 7,
   "id": "8588349e",
   "metadata": {},
   "outputs": [
    {
     "data": {
      "text/plain": [
       "0     False\n",
       "1     False\n",
       "2     False\n",
       "3     False\n",
       "4     False\n",
       "      ...  \n",
       "74    False\n",
       "75    False\n",
       "76    False\n",
       "77    False\n",
       "78    False\n",
       "Length: 79, dtype: bool"
      ]
     },
     "execution_count": 7,
     "metadata": {},
     "output_type": "execute_result"
    }
   ],
   "source": [
    "Cricket.duplicated()"
   ]
  },
  {
   "cell_type": "code",
   "execution_count": 8,
   "id": "bce381d1",
   "metadata": {},
   "outputs": [
    {
     "data": {
      "text/html": [
       "<div>\n",
       "<style scoped>\n",
       "    .dataframe tbody tr th:only-of-type {\n",
       "        vertical-align: middle;\n",
       "    }\n",
       "\n",
       "    .dataframe tbody tr th {\n",
       "        vertical-align: top;\n",
       "    }\n",
       "\n",
       "    .dataframe thead th {\n",
       "        text-align: right;\n",
       "    }\n",
       "</style>\n",
       "<table border=\"1\" class=\"dataframe\">\n",
       "  <thead>\n",
       "    <tr style=\"text-align: right;\">\n",
       "      <th></th>\n",
       "      <th>Player</th>\n",
       "      <th>Ave</th>\n",
       "      <th>SR</th>\n",
       "    </tr>\n",
       "  </thead>\n",
       "  <tbody>\n",
       "    <tr>\n",
       "      <th>0</th>\n",
       "      <td>SR Tendulkar�(INDIA)</td>\n",
       "      <td>44.83</td>\n",
       "      <td>86.23</td>\n",
       "    </tr>\n",
       "    <tr>\n",
       "      <th>1</th>\n",
       "      <td>KC Sangakkara�(Asia/ICC/SL)</td>\n",
       "      <td>41.98</td>\n",
       "      <td>78.86</td>\n",
       "    </tr>\n",
       "    <tr>\n",
       "      <th>2</th>\n",
       "      <td>RT Ponting�(AUS/ICC)</td>\n",
       "      <td>42.03</td>\n",
       "      <td>80.39</td>\n",
       "    </tr>\n",
       "    <tr>\n",
       "      <th>3</th>\n",
       "      <td>ST Jayasuriya�(Asia/SL)</td>\n",
       "      <td>32.36</td>\n",
       "      <td>91.20</td>\n",
       "    </tr>\n",
       "    <tr>\n",
       "      <th>4</th>\n",
       "      <td>DPMD Jayawardene�(Asia/SL)</td>\n",
       "      <td>33.37</td>\n",
       "      <td>78.96</td>\n",
       "    </tr>\n",
       "    <tr>\n",
       "      <th>...</th>\n",
       "      <td>...</td>\n",
       "      <td>...</td>\n",
       "      <td>...</td>\n",
       "    </tr>\n",
       "    <tr>\n",
       "      <th>74</th>\n",
       "      <td>CG Greenidge�(WI)</td>\n",
       "      <td>45.03</td>\n",
       "      <td>64.92</td>\n",
       "    </tr>\n",
       "    <tr>\n",
       "      <th>75</th>\n",
       "      <td>Misbah-ul-Haq�(PAK)</td>\n",
       "      <td>43.40</td>\n",
       "      <td>73.75</td>\n",
       "    </tr>\n",
       "    <tr>\n",
       "      <th>76</th>\n",
       "      <td>PD Collingwood�(ENG)</td>\n",
       "      <td>35.36</td>\n",
       "      <td>76.98</td>\n",
       "    </tr>\n",
       "    <tr>\n",
       "      <th>77</th>\n",
       "      <td>A Symonds�(AUS)</td>\n",
       "      <td>39.75</td>\n",
       "      <td>92.44</td>\n",
       "    </tr>\n",
       "    <tr>\n",
       "      <th>78</th>\n",
       "      <td>Abdul Razzaq�(Asia/PAK)</td>\n",
       "      <td>29.70</td>\n",
       "      <td>81.25</td>\n",
       "    </tr>\n",
       "  </tbody>\n",
       "</table>\n",
       "<p>79 rows × 3 columns</p>\n",
       "</div>"
      ],
      "text/plain": [
       "                         Player    Ave     SR\n",
       "0          SR Tendulkar�(INDIA)  44.83  86.23\n",
       "1   KC Sangakkara�(Asia/ICC/SL)  41.98  78.86\n",
       "2          RT Ponting�(AUS/ICC)  42.03  80.39\n",
       "3       ST Jayasuriya�(Asia/SL)  32.36  91.20\n",
       "4    DPMD Jayawardene�(Asia/SL)  33.37  78.96\n",
       "..                          ...    ...    ...\n",
       "74            CG Greenidge�(WI)  45.03  64.92\n",
       "75          Misbah-ul-Haq�(PAK)  43.40  73.75\n",
       "76         PD Collingwood�(ENG)  35.36  76.98\n",
       "77              A Symonds�(AUS)  39.75  92.44\n",
       "78      Abdul Razzaq�(Asia/PAK)  29.70  81.25\n",
       "\n",
       "[79 rows x 3 columns]"
      ]
     },
     "execution_count": 8,
     "metadata": {},
     "output_type": "execute_result"
    }
   ],
   "source": [
    "df = Cricket[[\"Player\",\"Ave\",\"SR\"]]\n",
    "df"
   ]
  },
  {
   "cell_type": "code",
   "execution_count": 9,
   "id": "d0f0ff3f",
   "metadata": {},
   "outputs": [
    {
     "data": {
      "text/plain": [
       "(79, 3)"
      ]
     },
     "execution_count": 9,
     "metadata": {},
     "output_type": "execute_result"
    }
   ],
   "source": [
    "df.shape"
   ]
  },
  {
   "cell_type": "code",
   "execution_count": 10,
   "id": "357d01b3",
   "metadata": {},
   "outputs": [
    {
     "name": "stdout",
     "output_type": "stream",
     "text": [
      "<class 'pandas.core.frame.DataFrame'>\n",
      "RangeIndex: 79 entries, 0 to 78\n",
      "Data columns (total 3 columns):\n",
      " #   Column  Non-Null Count  Dtype  \n",
      "---  ------  --------------  -----  \n",
      " 0   Player  79 non-null     object \n",
      " 1   Ave     79 non-null     float64\n",
      " 2   SR      79 non-null     float64\n",
      "dtypes: float64(2), object(1)\n",
      "memory usage: 2.0+ KB\n"
     ]
    }
   ],
   "source": [
    "df.info()"
   ]
  },
  {
   "cell_type": "code",
   "execution_count": 11,
   "id": "e8cfd38a",
   "metadata": {},
   "outputs": [
    {
     "data": {
      "text/plain": [
       "<AxesSubplot:xlabel='Ave'>"
      ]
     },
     "execution_count": 11,
     "metadata": {},
     "output_type": "execute_result"
    },
    {
     "data": {
      "image/png": "[encoded data removed]",
      "text/plain": [
       "<Figure size 432x288 with 1 Axes>"
      ]
     },
     "metadata": {
      "needs_background": "light"
     },
     "output_type": "display_data"
    }
   ],
   "source": [
    "sns.boxplot(df.Ave)"
   ]
  },
  {
   "cell_type": "code",
   "execution_count": 12,
   "id": "efedc333",
   "metadata": {},
   "outputs": [],
   "source": [
    "# Q1 = df.Ave.quantile(0.25)\n",
    "# Q3 = df.Ave.quantile(0.75)\n",
    "# IQR = Q3-Q1\n",
    "# df = df[(df.Ave>=Q1-1.5*IQR)&(df.Ave<=Q3+1.5*IQR)]"
   ]
  },
  {
   "cell_type": "code",
   "execution_count": 13,
   "id": "d980be68",
   "metadata": {},
   "outputs": [
    {
     "data": {
      "text/plain": [
       "<AxesSubplot:xlabel='SR'>"
      ]
     },
     "execution_count": 13,
     "metadata": {},
     "output_type": "execute_result"
    },
    {
     "data": {
      "image/png": "[encoded data removed]",
      "text/plain": [
       "<Figure size 432x288 with 1 Axes>"
      ]
     },
     "metadata": {
      "needs_background": "light"
     },
     "output_type": "display_data"
    }
   ],
   "source": [
    "sns.boxplot(df.SR)"
   ]
  },
  {
   "cell_type": "code",
   "execution_count": 14,
   "id": "c6d10e24",
   "metadata": {},
   "outputs": [],
   "source": [
    "# Q1 = df.SR.quantile(0.25)\n",
    "# Q3 = df.SR.quantile(0.75)\n",
    "# IQR = Q3-Q1\n",
    "# df = df[(df.SR>=Q1-1.5*IQR)&(df.SR<=Q3+1.5*IQR)]\n"
   ]
  },
  {
   "cell_type": "code",
   "execution_count": 15,
   "id": "51dd03ae",
   "metadata": {},
   "outputs": [
    {
     "data": {
      "text/plain": [
       "(79, 3)"
      ]
     },
     "execution_count": 15,
     "metadata": {},
     "output_type": "execute_result"
    }
   ],
   "source": [
    "df.shape"
   ]
  },
  {
   "cell_type": "code",
   "execution_count": 16,
   "id": "9658cde6",
   "metadata": {},
   "outputs": [
    {
     "data": {
      "text/plain": [
       "<AxesSubplot:xlabel='SR'>"
      ]
     },
     "execution_count": 16,
     "metadata": {},
     "output_type": "execute_result"
    },
    {
     "data": {
      "image/png": "[encoded data removed]",
      "text/plain": [
       "<Figure size 432x288 with 1 Axes>"
      ]
     },
     "metadata": {
      "needs_background": "light"
     },
     "output_type": "display_data"
    }
   ],
   "source": [
    "sns.boxplot(df.SR)"
   ]
  },
  {
   "cell_type": "markdown",
   "id": "e982deb8",
   "metadata": {},
   "source": [
    "### All Data is clean\n",
    "\n",
    "# Let's do Rescalling"
   ]
  },
  {
   "cell_type": "code",
   "execution_count": 17,
   "id": "d9ef7943",
   "metadata": {},
   "outputs": [
    {
     "data": {
      "text/html": [
       "<div>\n",
       "<style scoped>\n",
       "    .dataframe tbody tr th:only-of-type {\n",
       "        vertical-align: middle;\n",
       "    }\n",
       "\n",
       "    .dataframe tbody tr th {\n",
       "        vertical-align: top;\n",
       "    }\n",
       "\n",
       "    .dataframe thead th {\n",
       "        text-align: right;\n",
       "    }\n",
       "</style>\n",
       "<table border=\"1\" class=\"dataframe\">\n",
       "  <thead>\n",
       "    <tr style=\"text-align: right;\">\n",
       "      <th></th>\n",
       "      <th>Ave</th>\n",
       "      <th>SR</th>\n",
       "    </tr>\n",
       "  </thead>\n",
       "  <tbody>\n",
       "    <tr>\n",
       "      <th>0</th>\n",
       "      <td>44.83</td>\n",
       "      <td>86.23</td>\n",
       "    </tr>\n",
       "    <tr>\n",
       "      <th>1</th>\n",
       "      <td>41.98</td>\n",
       "      <td>78.86</td>\n",
       "    </tr>\n",
       "  </tbody>\n",
       "</table>\n",
       "</div>"
      ],
      "text/plain": [
       "     Ave     SR\n",
       "0  44.83  86.23\n",
       "1  41.98  78.86"
      ]
     },
     "execution_count": 17,
     "metadata": {},
     "output_type": "execute_result"
    }
   ],
   "source": [
    "df2 = df[[\"Ave\",\"SR\"]]\n",
    "df2.head(2)"
   ]
  },
  {
   "cell_type": "code",
   "execution_count": 18,
   "id": "cbdfea18",
   "metadata": {},
   "outputs": [
    {
     "data": {
      "text/html": [
       "<div>\n",
       "<style scoped>\n",
       "    .dataframe tbody tr th:only-of-type {\n",
       "        vertical-align: middle;\n",
       "    }\n",
       "\n",
       "    .dataframe tbody tr th {\n",
       "        vertical-align: top;\n",
       "    }\n",
       "\n",
       "    .dataframe thead th {\n",
       "        text-align: right;\n",
       "    }\n",
       "</style>\n",
       "<table border=\"1\" class=\"dataframe\">\n",
       "  <thead>\n",
       "    <tr style=\"text-align: right;\">\n",
       "      <th></th>\n",
       "      <th>Ave</th>\n",
       "      <th>SR</th>\n",
       "    </tr>\n",
       "  </thead>\n",
       "  <tbody>\n",
       "    <tr>\n",
       "      <th>0</th>\n",
       "      <td>1.072294</td>\n",
       "      <td>0.703152</td>\n",
       "    </tr>\n",
       "    <tr>\n",
       "      <th>1</th>\n",
       "      <td>0.587725</td>\n",
       "      <td>-0.044139</td>\n",
       "    </tr>\n",
       "    <tr>\n",
       "      <th>2</th>\n",
       "      <td>0.596226</td>\n",
       "      <td>0.110997</td>\n",
       "    </tr>\n",
       "    <tr>\n",
       "      <th>3</th>\n",
       "      <td>-1.047909</td>\n",
       "      <td>1.207091</td>\n",
       "    </tr>\n",
       "    <tr>\n",
       "      <th>4</th>\n",
       "      <td>-0.876185</td>\n",
       "      <td>-0.034000</td>\n",
       "    </tr>\n",
       "  </tbody>\n",
       "</table>\n",
       "</div>"
      ],
      "text/plain": [
       "        Ave        SR\n",
       "0  1.072294  0.703152\n",
       "1  0.587725 -0.044139\n",
       "2  0.596226  0.110997\n",
       "3 -1.047909  1.207091\n",
       "4 -0.876185 -0.034000"
      ]
     },
     "execution_count": 18,
     "metadata": {},
     "output_type": "execute_result"
    }
   ],
   "source": [
    "# Import library for rescalling\n",
    "from sklearn.preprocessing import StandardScaler\n",
    "scaler = StandardScaler()\n",
    "df2_scaled = scaler.fit_transform(df2)\n",
    "df2_scaled = pd.DataFrame(df2_scaled)\n",
    "df2_scaled.columns = df2.columns\n",
    "df2_scaled.head()"
   ]
  },
  {
   "cell_type": "code",
   "execution_count": null,
   "id": "8f2924f8",
   "metadata": {},
   "outputs": [],
   "source": []
  },
  {
   "cell_type": "code",
   "execution_count": 19,
   "id": "7b6002f0",
   "metadata": {},
   "outputs": [
    {
     "data": {
      "text/plain": [
       "(79, 2)"
      ]
     },
     "execution_count": 19,
     "metadata": {},
     "output_type": "execute_result"
    }
   ],
   "source": [
    "df2_scaled.shape"
   ]
  },
  {
   "cell_type": "markdown",
   "id": "a9b20930",
   "metadata": {},
   "source": [
    "# Modelling"
   ]
  },
  {
   "cell_type": "code",
   "execution_count": 20,
   "id": "ecb9d06e",
   "metadata": {},
   "outputs": [
    {
     "data": {
      "text/plain": [
       "KMeans(max_iter=40, n_clusters=4, random_state=100)"
      ]
     },
     "execution_count": 20,
     "metadata": {},
     "output_type": "execute_result"
    }
   ],
   "source": [
    "# Importing Library\n",
    "\n",
    "from sklearn.cluster import KMeans\n",
    "kmean = KMeans(n_clusters=4,max_iter=40,random_state=100)\n",
    "kmean.fit(df2_scaled)"
   ]
  },
  {
   "cell_type": "code",
   "execution_count": 21,
   "id": "fc9f4c2a",
   "metadata": {},
   "outputs": [
    {
     "data": {
      "text/plain": [
       "array([3, 1, 1, 0, 2, 1, 1, 1, 1, 1, 0, 1, 0, 3, 2, 3, 2, 0, 1, 1, 0, 1,\n",
       "       2, 1, 0, 3, 2, 0, 2, 1, 2, 2, 1, 2, 3, 2, 2, 1, 3, 1, 2, 2, 3, 2,\n",
       "       2, 2, 1, 2, 2, 1, 0, 1, 2, 2, 2, 2, 1, 0, 2, 0, 2, 0, 1, 3, 3, 1,\n",
       "       1, 2, 1, 2, 1, 2, 2, 2, 1, 1, 2, 0, 2])"
      ]
     },
     "execution_count": 21,
     "metadata": {},
     "output_type": "execute_result"
    }
   ],
   "source": [
    "kmean.labels_"
   ]
  },
  {
   "cell_type": "markdown",
   "id": "d5f1ada6",
   "metadata": {},
   "source": [
    "# Finding optimal Cluster"
   ]
  },
  {
   "cell_type": "markdown",
   "id": "b5c9a086",
   "metadata": {},
   "source": [
    "## Method 1\n"
   ]
  },
  {
   "cell_type": "code",
   "execution_count": 22,
   "id": "af8ee35a",
   "metadata": {},
   "outputs": [
    {
     "data": {
      "image/png": "[encoded data removed]",
      "text/plain": [
       "<Figure size 432x288 with 1 Axes>"
      ]
     },
     "metadata": {
      "needs_background": "light"
     },
     "output_type": "display_data"
    }
   ],
   "source": [
    "ssd=[]\n",
    "range_n_cluster=[2,3,4,5,6,7,8]\n",
    "for num_clusters in range_n_cluster:\n",
    "    kmeans = KMeans(n_clusters=num_clusters, max_iter=50)\n",
    "    kmeans.fit(df2_scaled)\n",
    "    ssd.append(kmeans.inertia_)\n",
    "#plot the ssd for each n_cluster\n",
    "plt.plot(ssd)\n",
    "plt.xticks([0,1,2,3,4,5,6],[2,3,4,5,6,7,8])\n",
    "plt.show()"
   ]
  },
  {
   "cell_type": "markdown",
   "id": "50bc01dd",
   "metadata": {},
   "source": [
    "# Method 2\n",
    "\n",
    "- Silhouette Score"
   ]
  },
  {
   "cell_type": "code",
   "execution_count": 23,
   "id": "b1456c04",
   "metadata": {},
   "outputs": [],
   "source": [
    "# Import Metric\n",
    "from sklearn.metrics import silhouette_score"
   ]
  },
  {
   "cell_type": "code",
   "execution_count": 24,
   "id": "6f5008b6",
   "metadata": {},
   "outputs": [
    {
     "name": "stdout",
     "output_type": "stream",
     "text": [
      "for n_clusters = 2,the Silhouette Score is 0.37632823237612395\n",
      "for n_clusters = 3,the Silhouette Score is 0.36700102657579503\n",
      "for n_clusters = 4,the Silhouette Score is 0.3836904829421138\n",
      "for n_clusters = 5,the Silhouette Score is 0.3686963474429171\n",
      "for n_clusters = 6,the Silhouette Score is 0.39076607561074883\n",
      "for n_clusters = 7,the Silhouette Score is 0.38301845780271\n",
      "for n_clusters = 8,the Silhouette Score is 0.36851063280273477\n"
     ]
    }
   ],
   "source": [
    "range_n_cluster=[2,3,4,5,6,7,8]\n",
    "\n",
    "for num_clusters in range_n_cluster:\n",
    "    kmeans = KMeans(n_clusters=num_clusters, max_iter=50)\n",
    "    kmeans.fit(df2_scaled)\n",
    "    cluster_labels = kmeans.labels_\n",
    "    \n",
    "    # Silhouette Score\n",
    "    silhouette_avg = silhouette_score(df2_scaled,cluster_labels)\n",
    "    print(\"for n_clusters = {0},the Silhouette Score is {1}\".format(num_clusters,silhouette_avg))"
   ]
  },
  {
   "cell_type": "markdown",
   "id": "860de5cc",
   "metadata": {},
   "source": [
    "- Chosing 5 as optional clustring"
   ]
  },
  {
   "cell_type": "code",
   "execution_count": 54,
   "id": "8ccbdedb",
   "metadata": {},
   "outputs": [
    {
     "data": {
      "text/plain": [
       "KMeans(max_iter=50, n_clusters=5)"
      ]
     },
     "execution_count": 54,
     "metadata": {},
     "output_type": "execute_result"
    }
   ],
   "source": [
    "# Final model with k=3\n",
    "kmeans = KMeans(n_clusters=5, max_iter=50)\n",
    "kmeans.fit(df2_scaled)"
   ]
  },
  {
   "cell_type": "code",
   "execution_count": 55,
   "id": "1623dc59",
   "metadata": {},
   "outputs": [
    {
     "data": {
      "text/plain": [
       "array([1, 3, 3, 4, 2, 3, 3, 3, 3, 0, 0, 3, 4, 1, 2, 1, 0, 0, 0, 3, 0, 3,\n",
       "       2, 3, 4, 1, 0, 4, 2, 3, 2, 2, 3, 2, 1, 2, 2, 0, 1, 3, 2, 0, 1, 2,\n",
       "       2, 2, 3, 2, 2, 3, 4, 3, 2, 0, 2, 2, 3, 0, 2, 0, 2, 4, 3, 0, 1, 0,\n",
       "       0, 2, 3, 2, 0, 2, 2, 2, 3, 3, 2, 0, 2])"
      ]
     },
     "execution_count": 55,
     "metadata": {},
     "output_type": "execute_result"
    }
   ],
   "source": [
    "kmeans.labels_"
   ]
  },
  {
   "cell_type": "code",
   "execution_count": 56,
   "id": "0ea068e4",
   "metadata": {},
   "outputs": [
    {
     "data": {
      "text/html": [
       "<div>\n",
       "<style scoped>\n",
       "    .dataframe tbody tr th:only-of-type {\n",
       "        vertical-align: middle;\n",
       "    }\n",
       "\n",
       "    .dataframe tbody tr th {\n",
       "        vertical-align: top;\n",
       "    }\n",
       "\n",
       "    .dataframe thead th {\n",
       "        text-align: right;\n",
       "    }\n",
       "</style>\n",
       "<table border=\"1\" class=\"dataframe\">\n",
       "  <thead>\n",
       "    <tr style=\"text-align: right;\">\n",
       "      <th></th>\n",
       "      <th>Player</th>\n",
       "      <th>Ave</th>\n",
       "      <th>SR</th>\n",
       "      <th>Cluster_id</th>\n",
       "    </tr>\n",
       "  </thead>\n",
       "  <tbody>\n",
       "    <tr>\n",
       "      <th>0</th>\n",
       "      <td>SR Tendulkar�(INDIA)</td>\n",
       "      <td>44.83</td>\n",
       "      <td>86.23</td>\n",
       "      <td>1</td>\n",
       "    </tr>\n",
       "    <tr>\n",
       "      <th>1</th>\n",
       "      <td>KC Sangakkara�(Asia/ICC/SL)</td>\n",
       "      <td>41.98</td>\n",
       "      <td>78.86</td>\n",
       "      <td>3</td>\n",
       "    </tr>\n",
       "    <tr>\n",
       "      <th>2</th>\n",
       "      <td>RT Ponting�(AUS/ICC)</td>\n",
       "      <td>42.03</td>\n",
       "      <td>80.39</td>\n",
       "      <td>3</td>\n",
       "    </tr>\n",
       "    <tr>\n",
       "      <th>3</th>\n",
       "      <td>ST Jayasuriya�(Asia/SL)</td>\n",
       "      <td>32.36</td>\n",
       "      <td>91.20</td>\n",
       "      <td>4</td>\n",
       "    </tr>\n",
       "    <tr>\n",
       "      <th>4</th>\n",
       "      <td>DPMD Jayawardene�(Asia/SL)</td>\n",
       "      <td>33.37</td>\n",
       "      <td>78.96</td>\n",
       "      <td>2</td>\n",
       "    </tr>\n",
       "  </tbody>\n",
       "</table>\n",
       "</div>"
      ],
      "text/plain": [
       "                        Player    Ave     SR  Cluster_id\n",
       "0         SR Tendulkar�(INDIA)  44.83  86.23           1\n",
       "1  KC Sangakkara�(Asia/ICC/SL)  41.98  78.86           3\n",
       "2         RT Ponting�(AUS/ICC)  42.03  80.39           3\n",
       "3      ST Jayasuriya�(Asia/SL)  32.36  91.20           4\n",
       "4   DPMD Jayawardene�(Asia/SL)  33.37  78.96           2"
      ]
     },
     "execution_count": 56,
     "metadata": {},
     "output_type": "execute_result"
    }
   ],
   "source": [
    "df[\"Cluster_id\"] = kmeans.labels_\n",
    "df.head()"
   ]
  },
  {
   "cell_type": "code",
   "execution_count": 57,
   "id": "fae3c6a5",
   "metadata": {},
   "outputs": [
    {
     "name": "stdout",
     "output_type": "stream",
     "text": [
      "<class 'pandas.core.frame.DataFrame'>\n",
      "RangeIndex: 79 entries, 0 to 78\n",
      "Data columns (total 4 columns):\n",
      " #   Column      Non-Null Count  Dtype  \n",
      "---  ------      --------------  -----  \n",
      " 0   Player      79 non-null     object \n",
      " 1   Ave         79 non-null     float64\n",
      " 2   SR          79 non-null     float64\n",
      " 3   Cluster_id  79 non-null     int32  \n",
      "dtypes: float64(2), int32(1), object(1)\n",
      "memory usage: 2.3+ KB\n"
     ]
    }
   ],
   "source": [
    "df.info()"
   ]
  },
  {
   "cell_type": "code",
   "execution_count": 58,
   "id": "73b04011",
   "metadata": {},
   "outputs": [
    {
     "data": {
      "text/html": [
       "<div>\n",
       "<style scoped>\n",
       "    .dataframe tbody tr th:only-of-type {\n",
       "        vertical-align: middle;\n",
       "    }\n",
       "\n",
       "    .dataframe tbody tr th {\n",
       "        vertical-align: top;\n",
       "    }\n",
       "\n",
       "    .dataframe thead th {\n",
       "        text-align: right;\n",
       "    }\n",
       "</style>\n",
       "<table border=\"1\" class=\"dataframe\">\n",
       "  <thead>\n",
       "    <tr style=\"text-align: right;\">\n",
       "      <th></th>\n",
       "      <th>Player</th>\n",
       "      <th>Ave</th>\n",
       "      <th>SR</th>\n",
       "      <th>Cluster_id</th>\n",
       "    </tr>\n",
       "  </thead>\n",
       "  <tbody>\n",
       "    <tr>\n",
       "      <th>9</th>\n",
       "      <td>BC Lara�(ICC/WI)</td>\n",
       "      <td>40.48</td>\n",
       "      <td>79.51</td>\n",
       "      <td>0</td>\n",
       "    </tr>\n",
       "    <tr>\n",
       "      <th>10</th>\n",
       "      <td>TM Dilshan�(SL)</td>\n",
       "      <td>39.27</td>\n",
       "      <td>86.23</td>\n",
       "      <td>0</td>\n",
       "    </tr>\n",
       "    <tr>\n",
       "      <th>16</th>\n",
       "      <td>PA de Silva�(SL)</td>\n",
       "      <td>34.90</td>\n",
       "      <td>81.13</td>\n",
       "      <td>0</td>\n",
       "    </tr>\n",
       "    <tr>\n",
       "      <th>17</th>\n",
       "      <td>CH Gayle�(ICC/WI)</td>\n",
       "      <td>37.33</td>\n",
       "      <td>85.11</td>\n",
       "      <td>0</td>\n",
       "    </tr>\n",
       "    <tr>\n",
       "      <th>18</th>\n",
       "      <td>Saeed Anwar�(PAK)</td>\n",
       "      <td>39.21</td>\n",
       "      <td>80.67</td>\n",
       "      <td>0</td>\n",
       "    </tr>\n",
       "    <tr>\n",
       "      <th>20</th>\n",
       "      <td>Yuvraj Singh�(Asia/INDIA)</td>\n",
       "      <td>36.55</td>\n",
       "      <td>87.67</td>\n",
       "      <td>0</td>\n",
       "    </tr>\n",
       "    <tr>\n",
       "      <th>26</th>\n",
       "      <td>HH Gibbs�(SA)</td>\n",
       "      <td>36.13</td>\n",
       "      <td>83.26</td>\n",
       "      <td>0</td>\n",
       "    </tr>\n",
       "    <tr>\n",
       "      <th>37</th>\n",
       "      <td>GC Smith�(Afr/SA)</td>\n",
       "      <td>37.98</td>\n",
       "      <td>80.81</td>\n",
       "      <td>0</td>\n",
       "    </tr>\n",
       "    <tr>\n",
       "      <th>41</th>\n",
       "      <td>Shoaib Malik�(PAK)</td>\n",
       "      <td>35.23</td>\n",
       "      <td>81.72</td>\n",
       "      <td>0</td>\n",
       "    </tr>\n",
       "    <tr>\n",
       "      <th>53</th>\n",
       "      <td>JN Rhodes�(SA)</td>\n",
       "      <td>35.11</td>\n",
       "      <td>80.90</td>\n",
       "      <td>0</td>\n",
       "    </tr>\n",
       "    <tr>\n",
       "      <th>57</th>\n",
       "      <td>EJG Morgan�(ENG/IRE)</td>\n",
       "      <td>38.73</td>\n",
       "      <td>88.62</td>\n",
       "      <td>0</td>\n",
       "    </tr>\n",
       "    <tr>\n",
       "      <th>59</th>\n",
       "      <td>SR Watson�(AUS)</td>\n",
       "      <td>40.54</td>\n",
       "      <td>90.44</td>\n",
       "      <td>0</td>\n",
       "    </tr>\n",
       "    <tr>\n",
       "      <th>63</th>\n",
       "      <td>MJ Guptill�(NZ)</td>\n",
       "      <td>43.30</td>\n",
       "      <td>87.73</td>\n",
       "      <td>0</td>\n",
       "    </tr>\n",
       "    <tr>\n",
       "      <th>65</th>\n",
       "      <td>RG Sharma�(INDIA)</td>\n",
       "      <td>42.46</td>\n",
       "      <td>84.56</td>\n",
       "      <td>0</td>\n",
       "    </tr>\n",
       "    <tr>\n",
       "      <th>66</th>\n",
       "      <td>IR Bell�(ENG)</td>\n",
       "      <td>37.87</td>\n",
       "      <td>77.16</td>\n",
       "      <td>0</td>\n",
       "    </tr>\n",
       "    <tr>\n",
       "      <th>70</th>\n",
       "      <td>G Gambhir�(INDIA)</td>\n",
       "      <td>39.68</td>\n",
       "      <td>85.25</td>\n",
       "      <td>0</td>\n",
       "    </tr>\n",
       "    <tr>\n",
       "      <th>77</th>\n",
       "      <td>A Symonds�(AUS)</td>\n",
       "      <td>39.75</td>\n",
       "      <td>92.44</td>\n",
       "      <td>0</td>\n",
       "    </tr>\n",
       "  </tbody>\n",
       "</table>\n",
       "</div>"
      ],
      "text/plain": [
       "                       Player    Ave     SR  Cluster_id\n",
       "9            BC Lara�(ICC/WI)  40.48  79.51           0\n",
       "10            TM Dilshan�(SL)  39.27  86.23           0\n",
       "16           PA de Silva�(SL)  34.90  81.13           0\n",
       "17          CH Gayle�(ICC/WI)  37.33  85.11           0\n",
       "18          Saeed Anwar�(PAK)  39.21  80.67           0\n",
       "20  Yuvraj Singh�(Asia/INDIA)  36.55  87.67           0\n",
       "26              HH Gibbs�(SA)  36.13  83.26           0\n",
       "37          GC Smith�(Afr/SA)  37.98  80.81           0\n",
       "41         Shoaib Malik�(PAK)  35.23  81.72           0\n",
       "53             JN Rhodes�(SA)  35.11  80.90           0\n",
       "57       EJG Morgan�(ENG/IRE)  38.73  88.62           0\n",
       "59            SR Watson�(AUS)  40.54  90.44           0\n",
       "63            MJ Guptill�(NZ)  43.30  87.73           0\n",
       "65          RG Sharma�(INDIA)  42.46  84.56           0\n",
       "66              IR Bell�(ENG)  37.87  77.16           0\n",
       "70          G Gambhir�(INDIA)  39.68  85.25           0\n",
       "77            A Symonds�(AUS)  39.75  92.44           0"
      ]
     },
     "execution_count": 58,
     "metadata": {},
     "output_type": "execute_result"
    }
   ],
   "source": [
    "df[(df.Cluster_id == 0)]"
   ]
  },
  {
   "cell_type": "code",
   "execution_count": 59,
   "id": "e16943cb",
   "metadata": {},
   "outputs": [
    {
     "data": {
      "text/html": [
       "<div>\n",
       "<style scoped>\n",
       "    .dataframe tbody tr th:only-of-type {\n",
       "        vertical-align: middle;\n",
       "    }\n",
       "\n",
       "    .dataframe tbody tr th {\n",
       "        vertical-align: top;\n",
       "    }\n",
       "\n",
       "    .dataframe thead th {\n",
       "        text-align: right;\n",
       "    }\n",
       "</style>\n",
       "<table border=\"1\" class=\"dataframe\">\n",
       "  <thead>\n",
       "    <tr style=\"text-align: right;\">\n",
       "      <th></th>\n",
       "      <th>Player</th>\n",
       "      <th>Ave</th>\n",
       "      <th>SR</th>\n",
       "      <th>Cluster_id</th>\n",
       "    </tr>\n",
       "  </thead>\n",
       "  <tbody>\n",
       "    <tr>\n",
       "      <th>0</th>\n",
       "      <td>SR Tendulkar�(INDIA)</td>\n",
       "      <td>44.83</td>\n",
       "      <td>86.23</td>\n",
       "      <td>1</td>\n",
       "    </tr>\n",
       "    <tr>\n",
       "      <th>13</th>\n",
       "      <td>MS Dhoni�(Asia/INDIA)</td>\n",
       "      <td>51.32</td>\n",
       "      <td>88.69</td>\n",
       "      <td>1</td>\n",
       "    </tr>\n",
       "    <tr>\n",
       "      <th>15</th>\n",
       "      <td>AB de Villiers�(Afr/SA)</td>\n",
       "      <td>53.55</td>\n",
       "      <td>100.25</td>\n",
       "      <td>1</td>\n",
       "    </tr>\n",
       "    <tr>\n",
       "      <th>25</th>\n",
       "      <td>V Kohli�(INDIA)</td>\n",
       "      <td>53.94</td>\n",
       "      <td>90.99</td>\n",
       "      <td>1</td>\n",
       "    </tr>\n",
       "    <tr>\n",
       "      <th>34</th>\n",
       "      <td>HM Amla�(SA)</td>\n",
       "      <td>50.25</td>\n",
       "      <td>89.05</td>\n",
       "      <td>1</td>\n",
       "    </tr>\n",
       "    <tr>\n",
       "      <th>38</th>\n",
       "      <td>MG Bevan�(AUS)</td>\n",
       "      <td>53.58</td>\n",
       "      <td>74.16</td>\n",
       "      <td>1</td>\n",
       "    </tr>\n",
       "    <tr>\n",
       "      <th>42</th>\n",
       "      <td>IVA Richards�(WI)</td>\n",
       "      <td>47.00</td>\n",
       "      <td>90.20</td>\n",
       "      <td>1</td>\n",
       "    </tr>\n",
       "    <tr>\n",
       "      <th>64</th>\n",
       "      <td>MEK Hussey�(AUS)</td>\n",
       "      <td>48.15</td>\n",
       "      <td>87.16</td>\n",
       "      <td>1</td>\n",
       "    </tr>\n",
       "  </tbody>\n",
       "</table>\n",
       "</div>"
      ],
      "text/plain": [
       "                     Player    Ave      SR  Cluster_id\n",
       "0      SR Tendulkar�(INDIA)  44.83   86.23           1\n",
       "13    MS Dhoni�(Asia/INDIA)  51.32   88.69           1\n",
       "15  AB de Villiers�(Afr/SA)  53.55  100.25           1\n",
       "25          V Kohli�(INDIA)  53.94   90.99           1\n",
       "34             HM Amla�(SA)  50.25   89.05           1\n",
       "38           MG Bevan�(AUS)  53.58   74.16           1\n",
       "42        IVA Richards�(WI)  47.00   90.20           1\n",
       "64         MEK Hussey�(AUS)  48.15   87.16           1"
      ]
     },
     "execution_count": 59,
     "metadata": {},
     "output_type": "execute_result"
    }
   ],
   "source": [
    "df[(df.Cluster_id == 1)]"
   ]
  },
  {
   "cell_type": "code",
   "execution_count": 60,
   "id": "c9be4d6b",
   "metadata": {},
   "outputs": [
    {
     "data": {
      "text/html": [
       "<div>\n",
       "<style scoped>\n",
       "    .dataframe tbody tr th:only-of-type {\n",
       "        vertical-align: middle;\n",
       "    }\n",
       "\n",
       "    .dataframe tbody tr th {\n",
       "        vertical-align: top;\n",
       "    }\n",
       "\n",
       "    .dataframe thead th {\n",
       "        text-align: right;\n",
       "    }\n",
       "</style>\n",
       "<table border=\"1\" class=\"dataframe\">\n",
       "  <thead>\n",
       "    <tr style=\"text-align: right;\">\n",
       "      <th></th>\n",
       "      <th>Player</th>\n",
       "      <th>Ave</th>\n",
       "      <th>SR</th>\n",
       "      <th>Cluster_id</th>\n",
       "    </tr>\n",
       "  </thead>\n",
       "  <tbody>\n",
       "    <tr>\n",
       "      <th>4</th>\n",
       "      <td>DPMD Jayawardene�(Asia/SL)</td>\n",
       "      <td>33.37</td>\n",
       "      <td>78.96</td>\n",
       "      <td>2</td>\n",
       "    </tr>\n",
       "    <tr>\n",
       "      <th>14</th>\n",
       "      <td>M Azharuddin�(INDIA)</td>\n",
       "      <td>36.92</td>\n",
       "      <td>74.02</td>\n",
       "      <td>2</td>\n",
       "    </tr>\n",
       "    <tr>\n",
       "      <th>22</th>\n",
       "      <td>MS Atapattu�(SL)</td>\n",
       "      <td>37.57</td>\n",
       "      <td>67.72</td>\n",
       "      <td>2</td>\n",
       "    </tr>\n",
       "    <tr>\n",
       "      <th>28</th>\n",
       "      <td>SP Fleming�(ICC/NZ)</td>\n",
       "      <td>32.40</td>\n",
       "      <td>71.49</td>\n",
       "      <td>2</td>\n",
       "    </tr>\n",
       "    <tr>\n",
       "      <th>30</th>\n",
       "      <td>SR Waugh�(AUS)</td>\n",
       "      <td>32.90</td>\n",
       "      <td>75.91</td>\n",
       "      <td>2</td>\n",
       "    </tr>\n",
       "    <tr>\n",
       "      <th>31</th>\n",
       "      <td>A Ranatunga�(SL)</td>\n",
       "      <td>35.84</td>\n",
       "      <td>77.90</td>\n",
       "      <td>2</td>\n",
       "    </tr>\n",
       "    <tr>\n",
       "      <th>33</th>\n",
       "      <td>Younis Khan�(PAK)</td>\n",
       "      <td>31.24</td>\n",
       "      <td>75.29</td>\n",
       "      <td>2</td>\n",
       "    </tr>\n",
       "    <tr>\n",
       "      <th>35</th>\n",
       "      <td>Saleem Malik�(PAK)</td>\n",
       "      <td>32.88</td>\n",
       "      <td>76.41</td>\n",
       "      <td>2</td>\n",
       "    </tr>\n",
       "    <tr>\n",
       "      <th>36</th>\n",
       "      <td>NJ Astle�(NZ)</td>\n",
       "      <td>34.92</td>\n",
       "      <td>72.64</td>\n",
       "      <td>2</td>\n",
       "    </tr>\n",
       "    <tr>\n",
       "      <th>40</th>\n",
       "      <td>A Flower�(ZIM)</td>\n",
       "      <td>35.34</td>\n",
       "      <td>74.59</td>\n",
       "      <td>2</td>\n",
       "    </tr>\n",
       "    <tr>\n",
       "      <th>43</th>\n",
       "      <td>GW Flower�(ZIM)</td>\n",
       "      <td>33.52</td>\n",
       "      <td>67.58</td>\n",
       "      <td>2</td>\n",
       "    </tr>\n",
       "    <tr>\n",
       "      <th>44</th>\n",
       "      <td>Ijaz Ahmed�(PAK)</td>\n",
       "      <td>32.33</td>\n",
       "      <td>80.30</td>\n",
       "      <td>2</td>\n",
       "    </tr>\n",
       "    <tr>\n",
       "      <th>45</th>\n",
       "      <td>AR Border�(AUS)</td>\n",
       "      <td>30.62</td>\n",
       "      <td>71.42</td>\n",
       "      <td>2</td>\n",
       "    </tr>\n",
       "    <tr>\n",
       "      <th>47</th>\n",
       "      <td>RB Richardson�(WI)</td>\n",
       "      <td>33.41</td>\n",
       "      <td>63.74</td>\n",
       "      <td>2</td>\n",
       "    </tr>\n",
       "    <tr>\n",
       "      <th>48</th>\n",
       "      <td>WU Tharanga�(Asia/SL)</td>\n",
       "      <td>34.30</td>\n",
       "      <td>75.03</td>\n",
       "      <td>2</td>\n",
       "    </tr>\n",
       "    <tr>\n",
       "      <th>52</th>\n",
       "      <td>DC Boon�(AUS)</td>\n",
       "      <td>37.04</td>\n",
       "      <td>65.13</td>\n",
       "      <td>2</td>\n",
       "    </tr>\n",
       "    <tr>\n",
       "      <th>54</th>\n",
       "      <td>Mohammad Hafeez�(PAK)</td>\n",
       "      <td>33.01</td>\n",
       "      <td>75.58</td>\n",
       "      <td>2</td>\n",
       "    </tr>\n",
       "    <tr>\n",
       "      <th>55</th>\n",
       "      <td>Rameez Raja�(PAK)</td>\n",
       "      <td>32.09</td>\n",
       "      <td>63.31</td>\n",
       "      <td>2</td>\n",
       "    </tr>\n",
       "    <tr>\n",
       "      <th>58</th>\n",
       "      <td>CL Hooper�(WI)</td>\n",
       "      <td>35.34</td>\n",
       "      <td>76.63</td>\n",
       "      <td>2</td>\n",
       "    </tr>\n",
       "    <tr>\n",
       "      <th>60</th>\n",
       "      <td>Tamim Iqbal�(BDESH)</td>\n",
       "      <td>34.38</td>\n",
       "      <td>78.31</td>\n",
       "      <td>2</td>\n",
       "    </tr>\n",
       "    <tr>\n",
       "      <th>67</th>\n",
       "      <td>A Jadeja�(INDIA)</td>\n",
       "      <td>37.47</td>\n",
       "      <td>69.80</td>\n",
       "      <td>2</td>\n",
       "    </tr>\n",
       "    <tr>\n",
       "      <th>69</th>\n",
       "      <td>BRM Taylor�(ZIM)</td>\n",
       "      <td>34.82</td>\n",
       "      <td>74.47</td>\n",
       "      <td>2</td>\n",
       "    </tr>\n",
       "    <tr>\n",
       "      <th>71</th>\n",
       "      <td>ADR Campbell�(ZIM)</td>\n",
       "      <td>30.50</td>\n",
       "      <td>66.18</td>\n",
       "      <td>2</td>\n",
       "    </tr>\n",
       "    <tr>\n",
       "      <th>72</th>\n",
       "      <td>MN Samuels�(WI)</td>\n",
       "      <td>34.30</td>\n",
       "      <td>76.24</td>\n",
       "      <td>2</td>\n",
       "    </tr>\n",
       "    <tr>\n",
       "      <th>73</th>\n",
       "      <td>RS Mahanama�(SL)</td>\n",
       "      <td>29.49</td>\n",
       "      <td>60.57</td>\n",
       "      <td>2</td>\n",
       "    </tr>\n",
       "    <tr>\n",
       "      <th>76</th>\n",
       "      <td>PD Collingwood�(ENG)</td>\n",
       "      <td>35.36</td>\n",
       "      <td>76.98</td>\n",
       "      <td>2</td>\n",
       "    </tr>\n",
       "    <tr>\n",
       "      <th>78</th>\n",
       "      <td>Abdul Razzaq�(Asia/PAK)</td>\n",
       "      <td>29.70</td>\n",
       "      <td>81.25</td>\n",
       "      <td>2</td>\n",
       "    </tr>\n",
       "  </tbody>\n",
       "</table>\n",
       "</div>"
      ],
      "text/plain": [
       "                        Player    Ave     SR  Cluster_id\n",
       "4   DPMD Jayawardene�(Asia/SL)  33.37  78.96           2\n",
       "14        M Azharuddin�(INDIA)  36.92  74.02           2\n",
       "22            MS Atapattu�(SL)  37.57  67.72           2\n",
       "28         SP Fleming�(ICC/NZ)  32.40  71.49           2\n",
       "30              SR Waugh�(AUS)  32.90  75.91           2\n",
       "31            A Ranatunga�(SL)  35.84  77.90           2\n",
       "33           Younis Khan�(PAK)  31.24  75.29           2\n",
       "35          Saleem Malik�(PAK)  32.88  76.41           2\n",
       "36               NJ Astle�(NZ)  34.92  72.64           2\n",
       "40              A Flower�(ZIM)  35.34  74.59           2\n",
       "43             GW Flower�(ZIM)  33.52  67.58           2\n",
       "44            Ijaz Ahmed�(PAK)  32.33  80.30           2\n",
       "45             AR Border�(AUS)  30.62  71.42           2\n",
       "47          RB Richardson�(WI)  33.41  63.74           2\n",
       "48       WU Tharanga�(Asia/SL)  34.30  75.03           2\n",
       "52               DC Boon�(AUS)  37.04  65.13           2\n",
       "54       Mohammad Hafeez�(PAK)  33.01  75.58           2\n",
       "55           Rameez Raja�(PAK)  32.09  63.31           2\n",
       "58              CL Hooper�(WI)  35.34  76.63           2\n",
       "60         Tamim Iqbal�(BDESH)  34.38  78.31           2\n",
       "67            A Jadeja�(INDIA)  37.47  69.80           2\n",
       "69            BRM Taylor�(ZIM)  34.82  74.47           2\n",
       "71          ADR Campbell�(ZIM)  30.50  66.18           2\n",
       "72             MN Samuels�(WI)  34.30  76.24           2\n",
       "73            RS Mahanama�(SL)  29.49  60.57           2\n",
       "76        PD Collingwood�(ENG)  35.36  76.98           2\n",
       "78     Abdul Razzaq�(Asia/PAK)  29.70  81.25           2"
      ]
     },
     "execution_count": 60,
     "metadata": {},
     "output_type": "execute_result"
    }
   ],
   "source": [
    "df[(df.Cluster_id == 2)]"
   ]
  },
  {
   "cell_type": "code",
   "execution_count": 61,
   "id": "a8b82ca0",
   "metadata": {},
   "outputs": [
    {
     "data": {
      "text/html": [
       "<div>\n",
       "<style scoped>\n",
       "    .dataframe tbody tr th:only-of-type {\n",
       "        vertical-align: middle;\n",
       "    }\n",
       "\n",
       "    .dataframe tbody tr th {\n",
       "        vertical-align: top;\n",
       "    }\n",
       "\n",
       "    .dataframe thead th {\n",
       "        text-align: right;\n",
       "    }\n",
       "</style>\n",
       "<table border=\"1\" class=\"dataframe\">\n",
       "  <thead>\n",
       "    <tr style=\"text-align: right;\">\n",
       "      <th></th>\n",
       "      <th>Player</th>\n",
       "      <th>Ave</th>\n",
       "      <th>SR</th>\n",
       "      <th>Cluster_id</th>\n",
       "    </tr>\n",
       "  </thead>\n",
       "  <tbody>\n",
       "    <tr>\n",
       "      <th>1</th>\n",
       "      <td>KC Sangakkara�(Asia/ICC/SL)</td>\n",
       "      <td>41.98</td>\n",
       "      <td>78.86</td>\n",
       "      <td>3</td>\n",
       "    </tr>\n",
       "    <tr>\n",
       "      <th>2</th>\n",
       "      <td>RT Ponting�(AUS/ICC)</td>\n",
       "      <td>42.03</td>\n",
       "      <td>80.39</td>\n",
       "      <td>3</td>\n",
       "    </tr>\n",
       "    <tr>\n",
       "      <th>5</th>\n",
       "      <td>Inzamam-ul-Haq�(Asia/PAK)</td>\n",
       "      <td>39.52</td>\n",
       "      <td>74.24</td>\n",
       "      <td>3</td>\n",
       "    </tr>\n",
       "    <tr>\n",
       "      <th>6</th>\n",
       "      <td>JH Kallis�(Afr/ICC/SA)</td>\n",
       "      <td>44.36</td>\n",
       "      <td>72.89</td>\n",
       "      <td>3</td>\n",
       "    </tr>\n",
       "    <tr>\n",
       "      <th>7</th>\n",
       "      <td>SC Ganguly�(Asia/INDIA)</td>\n",
       "      <td>41.02</td>\n",
       "      <td>73.70</td>\n",
       "      <td>3</td>\n",
       "    </tr>\n",
       "    <tr>\n",
       "      <th>8</th>\n",
       "      <td>R Dravid�(Asia/ICC/INDIA)</td>\n",
       "      <td>39.16</td>\n",
       "      <td>71.24</td>\n",
       "      <td>3</td>\n",
       "    </tr>\n",
       "    <tr>\n",
       "      <th>11</th>\n",
       "      <td>Mohammad Yousuf�(Asia/PAK)</td>\n",
       "      <td>41.71</td>\n",
       "      <td>75.10</td>\n",
       "      <td>3</td>\n",
       "    </tr>\n",
       "    <tr>\n",
       "      <th>19</th>\n",
       "      <td>S Chanderpaul�(WI)</td>\n",
       "      <td>41.60</td>\n",
       "      <td>70.74</td>\n",
       "      <td>3</td>\n",
       "    </tr>\n",
       "    <tr>\n",
       "      <th>21</th>\n",
       "      <td>DL Haynes�(WI)</td>\n",
       "      <td>41.37</td>\n",
       "      <td>63.09</td>\n",
       "      <td>3</td>\n",
       "    </tr>\n",
       "    <tr>\n",
       "      <th>23</th>\n",
       "      <td>ME Waugh�(AUS)</td>\n",
       "      <td>39.35</td>\n",
       "      <td>76.90</td>\n",
       "      <td>3</td>\n",
       "    </tr>\n",
       "    <tr>\n",
       "      <th>29</th>\n",
       "      <td>MJ Clarke�(AUS)</td>\n",
       "      <td>44.58</td>\n",
       "      <td>78.98</td>\n",
       "      <td>3</td>\n",
       "    </tr>\n",
       "    <tr>\n",
       "      <th>32</th>\n",
       "      <td>Javed Miandad�(PAK)</td>\n",
       "      <td>41.70</td>\n",
       "      <td>67.01</td>\n",
       "      <td>3</td>\n",
       "    </tr>\n",
       "    <tr>\n",
       "      <th>39</th>\n",
       "      <td>G Kirsten�(SA)</td>\n",
       "      <td>40.95</td>\n",
       "      <td>72.04</td>\n",
       "      <td>3</td>\n",
       "    </tr>\n",
       "    <tr>\n",
       "      <th>46</th>\n",
       "      <td>LRPL Taylor�(NZ)</td>\n",
       "      <td>44.12</td>\n",
       "      <td>82.03</td>\n",
       "      <td>3</td>\n",
       "    </tr>\n",
       "    <tr>\n",
       "      <th>49</th>\n",
       "      <td>ML Hayden�(AUS/ICC)</td>\n",
       "      <td>43.80</td>\n",
       "      <td>78.96</td>\n",
       "      <td>3</td>\n",
       "    </tr>\n",
       "    <tr>\n",
       "      <th>51</th>\n",
       "      <td>DM Jones�(AUS)</td>\n",
       "      <td>44.61</td>\n",
       "      <td>72.56</td>\n",
       "      <td>3</td>\n",
       "    </tr>\n",
       "    <tr>\n",
       "      <th>56</th>\n",
       "      <td>RR Sarwan�(WI)</td>\n",
       "      <td>42.67</td>\n",
       "      <td>75.74</td>\n",
       "      <td>3</td>\n",
       "    </tr>\n",
       "    <tr>\n",
       "      <th>62</th>\n",
       "      <td>WJ Cronje�(SA)</td>\n",
       "      <td>38.64</td>\n",
       "      <td>76.47</td>\n",
       "      <td>3</td>\n",
       "    </tr>\n",
       "    <tr>\n",
       "      <th>68</th>\n",
       "      <td>DR Martyn�(AUS)</td>\n",
       "      <td>40.80</td>\n",
       "      <td>77.73</td>\n",
       "      <td>3</td>\n",
       "    </tr>\n",
       "    <tr>\n",
       "      <th>74</th>\n",
       "      <td>CG Greenidge�(WI)</td>\n",
       "      <td>45.03</td>\n",
       "      <td>64.92</td>\n",
       "      <td>3</td>\n",
       "    </tr>\n",
       "    <tr>\n",
       "      <th>75</th>\n",
       "      <td>Misbah-ul-Haq�(PAK)</td>\n",
       "      <td>43.40</td>\n",
       "      <td>73.75</td>\n",
       "      <td>3</td>\n",
       "    </tr>\n",
       "  </tbody>\n",
       "</table>\n",
       "</div>"
      ],
      "text/plain": [
       "                         Player    Ave     SR  Cluster_id\n",
       "1   KC Sangakkara�(Asia/ICC/SL)  41.98  78.86           3\n",
       "2          RT Ponting�(AUS/ICC)  42.03  80.39           3\n",
       "5     Inzamam-ul-Haq�(Asia/PAK)  39.52  74.24           3\n",
       "6        JH Kallis�(Afr/ICC/SA)  44.36  72.89           3\n",
       "7       SC Ganguly�(Asia/INDIA)  41.02  73.70           3\n",
       "8     R Dravid�(Asia/ICC/INDIA)  39.16  71.24           3\n",
       "11   Mohammad Yousuf�(Asia/PAK)  41.71  75.10           3\n",
       "19           S Chanderpaul�(WI)  41.60  70.74           3\n",
       "21               DL Haynes�(WI)  41.37  63.09           3\n",
       "23               ME Waugh�(AUS)  39.35  76.90           3\n",
       "29              MJ Clarke�(AUS)  44.58  78.98           3\n",
       "32          Javed Miandad�(PAK)  41.70  67.01           3\n",
       "39               G Kirsten�(SA)  40.95  72.04           3\n",
       "46             LRPL Taylor�(NZ)  44.12  82.03           3\n",
       "49          ML Hayden�(AUS/ICC)  43.80  78.96           3\n",
       "51               DM Jones�(AUS)  44.61  72.56           3\n",
       "56               RR Sarwan�(WI)  42.67  75.74           3\n",
       "62               WJ Cronje�(SA)  38.64  76.47           3\n",
       "68              DR Martyn�(AUS)  40.80  77.73           3\n",
       "74            CG Greenidge�(WI)  45.03  64.92           3\n",
       "75          Misbah-ul-Haq�(PAK)  43.40  73.75           3"
      ]
     },
     "execution_count": 61,
     "metadata": {},
     "output_type": "execute_result"
    }
   ],
   "source": [
    "df[(df.Cluster_id == 3)]"
   ]
  },
  {
   "cell_type": "code",
   "execution_count": null,
   "id": "69f9a8ef",
   "metadata": {},
   "outputs": [],
   "source": []
  },
  {
   "cell_type": "code",
   "execution_count": 62,
   "id": "f914b61e",
   "metadata": {},
   "outputs": [
    {
     "data": {
      "text/html": [
       "<div>\n",
       "<style scoped>\n",
       "    .dataframe tbody tr th:only-of-type {\n",
       "        vertical-align: middle;\n",
       "    }\n",
       "\n",
       "    .dataframe tbody tr th {\n",
       "        vertical-align: top;\n",
       "    }\n",
       "\n",
       "    .dataframe thead tr th {\n",
       "        text-align: left;\n",
       "    }\n",
       "\n",
       "    .dataframe thead tr:last-of-type th {\n",
       "        text-align: right;\n",
       "    }\n",
       "</style>\n",
       "<table border=\"1\" class=\"dataframe\">\n",
       "  <thead>\n",
       "    <tr>\n",
       "      <th></th>\n",
       "      <th colspan=\"3\" halign=\"left\">SR</th>\n",
       "      <th colspan=\"3\" halign=\"left\">Ave</th>\n",
       "    </tr>\n",
       "    <tr>\n",
       "      <th></th>\n",
       "      <th>min</th>\n",
       "      <th>max</th>\n",
       "      <th>mean</th>\n",
       "      <th>min</th>\n",
       "      <th>max</th>\n",
       "      <th>mean</th>\n",
       "    </tr>\n",
       "    <tr>\n",
       "      <th>Cluster_id</th>\n",
       "      <th></th>\n",
       "      <th></th>\n",
       "      <th></th>\n",
       "      <th></th>\n",
       "      <th></th>\n",
       "      <th></th>\n",
       "    </tr>\n",
       "  </thead>\n",
       "  <tbody>\n",
       "    <tr>\n",
       "      <th>0</th>\n",
       "      <td>77.16</td>\n",
       "      <td>92.44</td>\n",
       "      <td>84.306471</td>\n",
       "      <td>34.90</td>\n",
       "      <td>43.30</td>\n",
       "      <td>38.501176</td>\n",
       "    </tr>\n",
       "    <tr>\n",
       "      <th>1</th>\n",
       "      <td>74.16</td>\n",
       "      <td>100.25</td>\n",
       "      <td>88.341250</td>\n",
       "      <td>44.83</td>\n",
       "      <td>53.94</td>\n",
       "      <td>50.327500</td>\n",
       "    </tr>\n",
       "    <tr>\n",
       "      <th>2</th>\n",
       "      <td>60.57</td>\n",
       "      <td>81.25</td>\n",
       "      <td>72.868519</td>\n",
       "      <td>29.49</td>\n",
       "      <td>37.57</td>\n",
       "      <td>33.742963</td>\n",
       "    </tr>\n",
       "    <tr>\n",
       "      <th>3</th>\n",
       "      <td>63.09</td>\n",
       "      <td>82.03</td>\n",
       "      <td>74.159048</td>\n",
       "      <td>38.64</td>\n",
       "      <td>45.03</td>\n",
       "      <td>42.019048</td>\n",
       "    </tr>\n",
       "    <tr>\n",
       "      <th>4</th>\n",
       "      <td>91.20</td>\n",
       "      <td>117.00</td>\n",
       "      <td>99.933333</td>\n",
       "      <td>23.57</td>\n",
       "      <td>35.89</td>\n",
       "      <td>32.123333</td>\n",
       "    </tr>\n",
       "  </tbody>\n",
       "</table>\n",
       "</div>"
      ],
      "text/plain": [
       "               SR                       Ave                  \n",
       "              min     max       mean    min    max       mean\n",
       "Cluster_id                                                   \n",
       "0           77.16   92.44  84.306471  34.90  43.30  38.501176\n",
       "1           74.16  100.25  88.341250  44.83  53.94  50.327500\n",
       "2           60.57   81.25  72.868519  29.49  37.57  33.742963\n",
       "3           63.09   82.03  74.159048  38.64  45.03  42.019048\n",
       "4           91.20  117.00  99.933333  23.57  35.89  32.123333"
      ]
     },
     "execution_count": 62,
     "metadata": {},
     "output_type": "execute_result"
    }
   ],
   "source": [
    "df.groupby(\"Cluster_id\").agg({\"SR\":[\"min\",\"max\",\"mean\"],\"Ave\":[\"min\",\"max\",\"mean\"]})"
   ]
  },
  {
   "cell_type": "code",
   "execution_count": 63,
   "id": "c7aee76c",
   "metadata": {},
   "outputs": [
    {
     "data": {
      "text/plain": [
       "2    27\n",
       "3    21\n",
       "0    17\n",
       "1     8\n",
       "4     6\n",
       "Name: Cluster_id, dtype: int64"
      ]
     },
     "execution_count": 63,
     "metadata": {},
     "output_type": "execute_result"
    }
   ],
   "source": [
    "df.Cluster_id.value_counts()"
   ]
  },
  {
   "cell_type": "code",
   "execution_count": 64,
   "id": "f894fa94",
   "metadata": {},
   "outputs": [
    {
     "data": {
      "image/png": "[encoded data removed]",
      "text/plain": [
       "<Figure size 432x288 with 1 Axes>"
      ]
     },
     "metadata": {
      "needs_background": "light"
     },
     "output_type": "display_data"
    }
   ],
   "source": [
    "#plot\n",
    "sns.boxplot(x=\"Cluster_id\",y='Ave',data=df)\n",
    "plt.show()"
   ]
  },
  {
   "cell_type": "code",
   "execution_count": null,
   "id": "4ac7889e",
   "metadata": {},
   "outputs": [],
   "source": []
  },
  {
   "cell_type": "code",
   "execution_count": null,
   "id": "955811be",
   "metadata": {},
   "outputs": [],
   "source": []
  },
  {
   "cell_type": "code",
   "execution_count": null,
   "id": "13d42c3e",
   "metadata": {},
   "outputs": [],
   "source": []
  }
 ],
 "metadata": {
  "kernelspec": {
   "display_name": "Python 3",
   "language": "python",
   "name": "python3"
  },
  "language_info": {
   "codemirror_mode": {
    "name": "ipython",
    "version": 3
   },
   "file_extension": ".py",
   "mimetype": "text/x-python",
   "name": "python",
   "nbconvert_exporter": "python",
   "pygments_lexer": "ipython3",
   "version": "3.8.8"
  }
 },
 "nbformat": 4,
 "nbformat_minor": 5
}
